{
 "cells": [
  {
   "cell_type": "code",
   "execution_count": 12,
   "id": "bb31ad06-2649-4050-ac91-7b905b594f6f",
   "metadata": {},
   "outputs": [],
   "source": [
    "import io\n",
    "import matplotlib\n",
    "import matplotlib.pyplot as plt\n",
    "import numpy as np\n",
    "import pandas as pd\n",
    "import seaborn\n",
    "import seaborn as sns\n",
    "import datetime as dt"
   ]
  },
  {
   "cell_type": "code",
   "execution_count": 13,
   "id": "d8383f70-9f4e-4705-9a73-de171621d6ae",
   "metadata": {},
   "outputs": [],
   "source": [
    "from sklearn.model_selection import TimeSeriesSplit, cross_val_score\n",
    "from sklearn.linear_model import LinearRegression\n",
    "from sklearn.neural_network import MLPRegressor\n",
    "from sklearn.svm import SVR\n",
    "from sklearn.neighbors import KNeighborsRegressor\n",
    "from sklearn.tree import DecisionTreeRegressor\n",
    "from sklearn.ensemble import RandomForestRegressor\n",
    "from sklearn.model_selection import GridSearchCV\n",
    "import sklearn.metrics as metrics\n",
    "\n",
    "seaborn.set_context('talk')\n",
    "# Set float format\n",
    "pd.set_option('display.float_format','{:.2f}'.format)\n",
    "pd.set_option('mode.chained_assignment', None)\n",
    "\n",
    "# Set style\n",
    "seaborn.set_style(\"darkgrid\")\n",
    "seaborn.set_palette('pastel')\n",
    "seaborn.set_context(\"paper\", rc={\"font.size\":12,\"axes.titlesize\":12,\"axes.labelsize\":12}) "
   ]
  },
  {
   "cell_type": "code",
   "execution_count": 14,
   "id": "649c756e-efd9-47ab-a72d-7511457c46cb",
   "metadata": {},
   "outputs": [],
   "source": [
    "curated_pkl = pd.read_pickle('curated_df.pkl')"
   ]
  },
  {
   "cell_type": "code",
   "execution_count": 16,
   "id": "a2b5e0dd-a026-42e2-8769-d5570ab1ba51",
   "metadata": {},
   "outputs": [
    {
     "data": {
      "text/html": [
       "<div>\n",
       "<style scoped>\n",
       "    .dataframe tbody tr th:only-of-type {\n",
       "        vertical-align: middle;\n",
       "    }\n",
       "\n",
       "    .dataframe tbody tr th {\n",
       "        vertical-align: top;\n",
       "    }\n",
       "\n",
       "    .dataframe thead th {\n",
       "        text-align: right;\n",
       "    }\n",
       "</style>\n",
       "<table border=\"1\" class=\"dataframe\">\n",
       "  <thead>\n",
       "    <tr style=\"text-align: right;\">\n",
       "      <th></th>\n",
       "      <th>id_equipo</th>\n",
       "      <th>nombre_producto</th>\n",
       "      <th>capacidad</th>\n",
       "      <th>industria</th>\n",
       "      <th>volumen_escl</th>\n",
       "      <th>consumo_escl</th>\n",
       "    </tr>\n",
       "    <tr>\n",
       "      <th>timestamp</th>\n",
       "      <th></th>\n",
       "      <th></th>\n",
       "      <th></th>\n",
       "      <th></th>\n",
       "      <th></th>\n",
       "      <th></th>\n",
       "    </tr>\n",
       "  </thead>\n",
       "  <tbody>\n",
       "    <tr>\n",
       "      <th>2021-01-01 00:00:00</th>\n",
       "      <td>477</td>\n",
       "      <td>VP Nafta</td>\n",
       "      <td>15032.00</td>\n",
       "      <td>Service Station</td>\n",
       "      <td>0.06</td>\n",
       "      <td>0.00</td>\n",
       "    </tr>\n",
       "    <tr>\n",
       "      <th>2021-01-01 00:05:00</th>\n",
       "      <td>477</td>\n",
       "      <td>VP Nafta</td>\n",
       "      <td>15032.00</td>\n",
       "      <td>Service Station</td>\n",
       "      <td>0.06</td>\n",
       "      <td>0.00</td>\n",
       "    </tr>\n",
       "    <tr>\n",
       "      <th>2021-01-01 00:10:00</th>\n",
       "      <td>477</td>\n",
       "      <td>VP Nafta</td>\n",
       "      <td>15032.00</td>\n",
       "      <td>Service Station</td>\n",
       "      <td>0.06</td>\n",
       "      <td>0.00</td>\n",
       "    </tr>\n",
       "    <tr>\n",
       "      <th>2021-01-01 00:15:00</th>\n",
       "      <td>477</td>\n",
       "      <td>VP Nafta</td>\n",
       "      <td>15032.00</td>\n",
       "      <td>Service Station</td>\n",
       "      <td>0.06</td>\n",
       "      <td>0.00</td>\n",
       "    </tr>\n",
       "    <tr>\n",
       "      <th>2021-01-01 00:20:00</th>\n",
       "      <td>477</td>\n",
       "      <td>VP Nafta</td>\n",
       "      <td>15032.00</td>\n",
       "      <td>Service Station</td>\n",
       "      <td>0.06</td>\n",
       "      <td>0.00</td>\n",
       "    </tr>\n",
       "  </tbody>\n",
       "</table>\n",
       "</div>"
      ],
      "text/plain": [
       "                    id_equipo nombre_producto capacidad        industria  \\\n",
       "timestamp                                                                  \n",
       "2021-01-01 00:00:00       477        VP Nafta  15032.00  Service Station   \n",
       "2021-01-01 00:05:00       477        VP Nafta  15032.00  Service Station   \n",
       "2021-01-01 00:10:00       477        VP Nafta  15032.00  Service Station   \n",
       "2021-01-01 00:15:00       477        VP Nafta  15032.00  Service Station   \n",
       "2021-01-01 00:20:00       477        VP Nafta  15032.00  Service Station   \n",
       "\n",
       "                    volumen_escl consumo_escl  \n",
       "timestamp                                      \n",
       "2021-01-01 00:00:00         0.06         0.00  \n",
       "2021-01-01 00:05:00         0.06         0.00  \n",
       "2021-01-01 00:10:00         0.06         0.00  \n",
       "2021-01-01 00:15:00         0.06         0.00  \n",
       "2021-01-01 00:20:00         0.06         0.00  "
      ]
     },
     "execution_count": 16,
     "metadata": {},
     "output_type": "execute_result"
    }
   ],
   "source": [
    "curated_pkl.head() "
   ]
  },
  {
   "cell_type": "code",
   "execution_count": 17,
   "id": "8b263fc5-effa-42ef-b7e4-e69f627dfe0f",
   "metadata": {},
   "outputs": [],
   "source": [
    "#pip install sklearn"
   ]
  },
  {
   "cell_type": "code",
   "execution_count": 18,
   "id": "9fdcaf17-971b-403d-a920-669bb647ed7f",
   "metadata": {},
   "outputs": [],
   "source": [
    "#pip install matplotlib\n"
   ]
  },
  {
   "cell_type": "code",
   "execution_count": 19,
   "id": "8f8c2de6-fccd-414f-8d37-569939c28f6b",
   "metadata": {},
   "outputs": [],
   "source": [
    "#pip install pandas\n"
   ]
  },
  {
   "cell_type": "code",
   "execution_count": 20,
   "id": "9f075428-5e6d-42ec-8a07-a02457fcde07",
   "metadata": {},
   "outputs": [],
   "source": [
    "#pip install seaborn"
   ]
  },
  {
   "cell_type": "code",
   "execution_count": 22,
   "id": "82875590-4899-4394-9967-4209133b1444",
   "metadata": {},
   "outputs": [],
   "source": [
    "df=curated_pkl.copy()"
   ]
  },
  {
   "cell_type": "code",
   "execution_count": 26,
   "id": "d0abf2a8-6ae4-4ced-8a4e-43d337056dce",
   "metadata": {},
   "outputs": [
    {
     "data": {
      "text/plain": [
       "array(['Service Station', 'Agriculture', 'Transportation', 'Oil&Gas',\n",
       "       'Unknown', 'Mining', 'Construction', 'Industry', 'Public',\n",
       "       'Telcos', 'Distributor'], dtype=object)"
      ]
     },
     "execution_count": 26,
     "metadata": {},
     "output_type": "execute_result"
    }
   ],
   "source": [
    "df.industria.unique()"
   ]
  },
  {
   "cell_type": "code",
   "execution_count": 29,
   "id": "6d82900c-bea5-4058-a0ea-7d527e4d1217",
   "metadata": {},
   "outputs": [],
   "source": [
    "df_transp= df[df[\"industria\"]==\"Transportation\"]"
   ]
  },
  {
   "cell_type": "code",
   "execution_count": 33,
   "id": "439d5c79-c3f5-4e3e-9eb0-d99bc11cc177",
   "metadata": {},
   "outputs": [
    {
     "data": {
      "text/plain": [
       "520    51830\n",
       "874    51830\n",
       "838    51828\n",
       "479    40100\n",
       "851    25920\n",
       "453    25920\n",
       "541    25919\n",
       "661    25916\n",
       "501    25915\n",
       "871    25915\n",
       "629    25915\n",
       "220    25915\n",
       "788    25915\n",
       "637    25915\n",
       "537    25915\n",
       "638    25915\n",
       "531    25915\n",
       "867    25915\n",
       "626    25915\n",
       "849    25915\n",
       "831    25915\n",
       "801    25915\n",
       "806    25915\n",
       "227    25912\n",
       "600    25909\n",
       "827    25909\n",
       "455    25909\n",
       "816    25300\n",
       "210    24643\n",
       "828    24339\n",
       "508    24257\n",
       "830    24007\n",
       "823    21457\n",
       "813    18985\n",
       "958    11577\n",
       "814     5095\n",
       "915       16\n",
       "917        1\n",
       "Name: id_equipo, dtype: int64"
      ]
     },
     "execution_count": 33,
     "metadata": {},
     "output_type": "execute_result"
    }
   ],
   "source": [
    "df_transp.id_equipo.value_counts()"
   ]
  },
  {
   "cell_type": "code",
   "execution_count": 34,
   "id": "e20d014e-cb47-4721-baea-84f61a4fb855",
   "metadata": {},
   "outputs": [],
   "source": [
    "df_transp_520=df_transp[df_transp[\"id_equipo\"]==\"520\"]"
   ]
  },
  {
   "cell_type": "code",
   "execution_count": 35,
   "id": "6ed32d57-300f-4806-8bdd-0fddfd3d6033",
   "metadata": {},
   "outputs": [
    {
     "data": {
      "text/html": [
       "<div>\n",
       "<style scoped>\n",
       "    .dataframe tbody tr th:only-of-type {\n",
       "        vertical-align: middle;\n",
       "    }\n",
       "\n",
       "    .dataframe tbody tr th {\n",
       "        vertical-align: top;\n",
       "    }\n",
       "\n",
       "    .dataframe thead th {\n",
       "        text-align: right;\n",
       "    }\n",
       "</style>\n",
       "<table border=\"1\" class=\"dataframe\">\n",
       "  <thead>\n",
       "    <tr style=\"text-align: right;\">\n",
       "      <th></th>\n",
       "      <th>id_equipo</th>\n",
       "      <th>nombre_producto</th>\n",
       "      <th>capacidad</th>\n",
       "      <th>industria</th>\n",
       "      <th>volumen_escl</th>\n",
       "      <th>consumo_escl</th>\n",
       "    </tr>\n",
       "    <tr>\n",
       "      <th>timestamp</th>\n",
       "      <th></th>\n",
       "      <th></th>\n",
       "      <th></th>\n",
       "      <th></th>\n",
       "      <th></th>\n",
       "      <th></th>\n",
       "    </tr>\n",
       "  </thead>\n",
       "  <tbody>\n",
       "    <tr>\n",
       "      <th>2021-01-01 00:00:00</th>\n",
       "      <td>520</td>\n",
       "      <td>DIESEL EURO</td>\n",
       "      <td>41434.00</td>\n",
       "      <td>Transportation</td>\n",
       "      <td>0.21</td>\n",
       "      <td>0.00</td>\n",
       "    </tr>\n",
       "    <tr>\n",
       "      <th>2021-01-01 00:05:00</th>\n",
       "      <td>520</td>\n",
       "      <td>DIESEL EURO</td>\n",
       "      <td>41434.00</td>\n",
       "      <td>Transportation</td>\n",
       "      <td>0.21</td>\n",
       "      <td>0.00</td>\n",
       "    </tr>\n",
       "    <tr>\n",
       "      <th>2021-01-01 00:10:00</th>\n",
       "      <td>520</td>\n",
       "      <td>DIESEL EURO</td>\n",
       "      <td>41434.00</td>\n",
       "      <td>Transportation</td>\n",
       "      <td>0.21</td>\n",
       "      <td>0.00</td>\n",
       "    </tr>\n",
       "    <tr>\n",
       "      <th>2021-01-01 00:15:00</th>\n",
       "      <td>520</td>\n",
       "      <td>DIESEL EURO</td>\n",
       "      <td>41434.00</td>\n",
       "      <td>Transportation</td>\n",
       "      <td>0.21</td>\n",
       "      <td>0.00</td>\n",
       "    </tr>\n",
       "    <tr>\n",
       "      <th>2021-01-01 00:20:00</th>\n",
       "      <td>520</td>\n",
       "      <td>DIESEL EURO</td>\n",
       "      <td>41434.00</td>\n",
       "      <td>Transportation</td>\n",
       "      <td>0.21</td>\n",
       "      <td>0.00</td>\n",
       "    </tr>\n",
       "    <tr>\n",
       "      <th>...</th>\n",
       "      <td>...</td>\n",
       "      <td>...</td>\n",
       "      <td>...</td>\n",
       "      <td>...</td>\n",
       "      <td>...</td>\n",
       "      <td>...</td>\n",
       "    </tr>\n",
       "    <tr>\n",
       "      <th>2021-03-31 23:10:00</th>\n",
       "      <td>520</td>\n",
       "      <td>ULTRA DIESEL</td>\n",
       "      <td>82868.00</td>\n",
       "      <td>Transportation</td>\n",
       "      <td>0.39</td>\n",
       "      <td>0.00</td>\n",
       "    </tr>\n",
       "    <tr>\n",
       "      <th>2021-03-31 23:15:00</th>\n",
       "      <td>520</td>\n",
       "      <td>ULTRA DIESEL</td>\n",
       "      <td>82868.00</td>\n",
       "      <td>Transportation</td>\n",
       "      <td>0.39</td>\n",
       "      <td>0.00</td>\n",
       "    </tr>\n",
       "    <tr>\n",
       "      <th>2021-03-31 23:20:00</th>\n",
       "      <td>520</td>\n",
       "      <td>ULTRA DIESEL</td>\n",
       "      <td>82868.00</td>\n",
       "      <td>Transportation</td>\n",
       "      <td>0.39</td>\n",
       "      <td>0.00</td>\n",
       "    </tr>\n",
       "    <tr>\n",
       "      <th>2021-03-31 23:25:00</th>\n",
       "      <td>520</td>\n",
       "      <td>ULTRA DIESEL</td>\n",
       "      <td>82868.00</td>\n",
       "      <td>Transportation</td>\n",
       "      <td>0.39</td>\n",
       "      <td>0.00</td>\n",
       "    </tr>\n",
       "    <tr>\n",
       "      <th>2021-03-31 23:30:00</th>\n",
       "      <td>520</td>\n",
       "      <td>ULTRA DIESEL</td>\n",
       "      <td>82868.00</td>\n",
       "      <td>Transportation</td>\n",
       "      <td>0.39</td>\n",
       "      <td>0.00</td>\n",
       "    </tr>\n",
       "  </tbody>\n",
       "</table>\n",
       "<p>51830 rows × 6 columns</p>\n",
       "</div>"
      ],
      "text/plain": [
       "                    id_equipo nombre_producto capacidad       industria  \\\n",
       "timestamp                                                                 \n",
       "2021-01-01 00:00:00       520     DIESEL EURO  41434.00  Transportation   \n",
       "2021-01-01 00:05:00       520     DIESEL EURO  41434.00  Transportation   \n",
       "2021-01-01 00:10:00       520     DIESEL EURO  41434.00  Transportation   \n",
       "2021-01-01 00:15:00       520     DIESEL EURO  41434.00  Transportation   \n",
       "2021-01-01 00:20:00       520     DIESEL EURO  41434.00  Transportation   \n",
       "...                       ...             ...       ...             ...   \n",
       "2021-03-31 23:10:00       520    ULTRA DIESEL  82868.00  Transportation   \n",
       "2021-03-31 23:15:00       520    ULTRA DIESEL  82868.00  Transportation   \n",
       "2021-03-31 23:20:00       520    ULTRA DIESEL  82868.00  Transportation   \n",
       "2021-03-31 23:25:00       520    ULTRA DIESEL  82868.00  Transportation   \n",
       "2021-03-31 23:30:00       520    ULTRA DIESEL  82868.00  Transportation   \n",
       "\n",
       "                    volumen_escl consumo_escl  \n",
       "timestamp                                      \n",
       "2021-01-01 00:00:00         0.21         0.00  \n",
       "2021-01-01 00:05:00         0.21         0.00  \n",
       "2021-01-01 00:10:00         0.21         0.00  \n",
       "2021-01-01 00:15:00         0.21         0.00  \n",
       "2021-01-01 00:20:00         0.21         0.00  \n",
       "...                          ...          ...  \n",
       "2021-03-31 23:10:00         0.39         0.00  \n",
       "2021-03-31 23:15:00         0.39         0.00  \n",
       "2021-03-31 23:20:00         0.39         0.00  \n",
       "2021-03-31 23:25:00         0.39         0.00  \n",
       "2021-03-31 23:30:00         0.39         0.00  \n",
       "\n",
       "[51830 rows x 6 columns]"
      ]
     },
     "execution_count": 35,
     "metadata": {},
     "output_type": "execute_result"
    }
   ],
   "source": [
    "df_transp_520"
   ]
  },
  {
   "cell_type": "code",
   "execution_count": 36,
   "id": "1af464ee-d900-47f9-9001-15d1b8a36e0e",
   "metadata": {},
   "outputs": [
    {
     "data": {
      "text/plain": [
       "DIESEL EURO     25915\n",
       "ULTRA DIESEL    25915\n",
       "Name: nombre_producto, dtype: int64"
      ]
     },
     "execution_count": 36,
     "metadata": {},
     "output_type": "execute_result"
    }
   ],
   "source": [
    "df_transp_520.nombre_producto.value_counts()"
   ]
  },
  {
   "cell_type": "code",
   "execution_count": null,
   "id": "dd5f9bf7-d58a-4baa-b5ad-3173c3f4e608",
   "metadata": {},
   "outputs": [],
   "source": []
  }
 ],
 "metadata": {
  "kernelspec": {
   "display_name": "Python 3 (ipykernel)",
   "language": "python",
   "name": "python3"
  },
  "language_info": {
   "codemirror_mode": {
    "name": "ipython",
    "version": 3
   },
   "file_extension": ".py",
   "mimetype": "text/x-python",
   "name": "python",
   "nbconvert_exporter": "python",
   "pygments_lexer": "ipython3",
   "version": "3.8.10"
  }
 },
 "nbformat": 4,
 "nbformat_minor": 5
}
