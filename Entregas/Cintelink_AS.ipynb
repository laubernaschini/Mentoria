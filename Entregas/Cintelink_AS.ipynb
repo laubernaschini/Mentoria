{
 "cells": [
  {
   "cell_type": "code",
   "execution_count": 18,
   "metadata": {},
   "outputs": [],
   "source": [
    "import pandas as pd\n",
    "import numpy as np\n",
    "import datetime\n",
    "from scipy import stats\n",
    "import pandas as pd\n",
    "import matplotlib.pyplot as plt\n",
    "import seaborn as sns\n",
    "import statsmodels.api as sm\n",
    "from sklearn import linear_model\n",
    "from sklearn.metrics import mean_squared_error, r2_score\n",
    "import datetime as dt\n",
    "import sklearn.metrics as metrics"
   ]
  },
  {
   "cell_type": "code",
   "execution_count": 2,
   "metadata": {},
   "outputs": [],
   "source": [
    "curated_df=pd.read_pickle(\"C:/Users/Usuario/LAU/Diplomatura_Ciencia_Datos/Mentoria/Entregas/df_curated_per_hour.pkl\")"
   ]
  },
  {
   "cell_type": "code",
   "execution_count": 3,
   "metadata": {},
   "outputs": [
    {
     "data": {
      "text/html": [
       "<div>\n",
       "<style scoped>\n",
       "    .dataframe tbody tr th:only-of-type {\n",
       "        vertical-align: middle;\n",
       "    }\n",
       "\n",
       "    .dataframe tbody tr th {\n",
       "        vertical-align: top;\n",
       "    }\n",
       "\n",
       "    .dataframe thead th {\n",
       "        text-align: right;\n",
       "    }\n",
       "</style>\n",
       "<table border=\"1\" class=\"dataframe\">\n",
       "  <thead>\n",
       "    <tr style=\"text-align: right;\">\n",
       "      <th></th>\n",
       "      <th>id_equipo</th>\n",
       "      <th>nombre_producto</th>\n",
       "      <th>equipo_producto</th>\n",
       "      <th>capacidad</th>\n",
       "      <th>industria</th>\n",
       "      <th>volumen_escl</th>\n",
       "      <th>consumo_escl</th>\n",
       "    </tr>\n",
       "    <tr>\n",
       "      <th>timestamp</th>\n",
       "      <th></th>\n",
       "      <th></th>\n",
       "      <th></th>\n",
       "      <th></th>\n",
       "      <th></th>\n",
       "      <th></th>\n",
       "      <th></th>\n",
       "    </tr>\n",
       "  </thead>\n",
       "  <tbody>\n",
       "    <tr>\n",
       "      <th>2021-01-18 17:00:00</th>\n",
       "      <td>159</td>\n",
       "      <td>Formula Diesel</td>\n",
       "      <td>159-Formula Diesel</td>\n",
       "      <td>21327.0</td>\n",
       "      <td>Service Station</td>\n",
       "      <td>0.373230</td>\n",
       "      <td>0.003682</td>\n",
       "    </tr>\n",
       "    <tr>\n",
       "      <th>2021-01-18 18:00:00</th>\n",
       "      <td>159</td>\n",
       "      <td>Formula Diesel</td>\n",
       "      <td>159-Formula Diesel</td>\n",
       "      <td>21327.0</td>\n",
       "      <td>Service Station</td>\n",
       "      <td>0.368941</td>\n",
       "      <td>0.000911</td>\n",
       "    </tr>\n",
       "    <tr>\n",
       "      <th>2021-01-18 19:00:00</th>\n",
       "      <td>159</td>\n",
       "      <td>Formula Diesel</td>\n",
       "      <td>159-Formula Diesel</td>\n",
       "      <td>21327.0</td>\n",
       "      <td>Service Station</td>\n",
       "      <td>0.368387</td>\n",
       "      <td>0.000900</td>\n",
       "    </tr>\n",
       "    <tr>\n",
       "      <th>2021-01-18 20:00:00</th>\n",
       "      <td>159</td>\n",
       "      <td>Formula Diesel</td>\n",
       "      <td>159-Formula Diesel</td>\n",
       "      <td>21327.0</td>\n",
       "      <td>Service Station</td>\n",
       "      <td>0.367487</td>\n",
       "      <td>0.000957</td>\n",
       "    </tr>\n",
       "    <tr>\n",
       "      <th>2021-01-18 21:00:00</th>\n",
       "      <td>159</td>\n",
       "      <td>Formula Diesel</td>\n",
       "      <td>159-Formula Diesel</td>\n",
       "      <td>21327.0</td>\n",
       "      <td>Service Station</td>\n",
       "      <td>0.366531</td>\n",
       "      <td>0.001160</td>\n",
       "    </tr>\n",
       "    <tr>\n",
       "      <th>...</th>\n",
       "      <td>...</td>\n",
       "      <td>...</td>\n",
       "      <td>...</td>\n",
       "      <td>...</td>\n",
       "      <td>...</td>\n",
       "      <td>...</td>\n",
       "      <td>...</td>\n",
       "    </tr>\n",
       "    <tr>\n",
       "      <th>2021-02-26 13:00:00</th>\n",
       "      <td>959</td>\n",
       "      <td>Producto 1</td>\n",
       "      <td>959-Producto 1</td>\n",
       "      <td>1033.0</td>\n",
       "      <td>Distributor</td>\n",
       "      <td>3.861568</td>\n",
       "      <td>0.000000</td>\n",
       "    </tr>\n",
       "    <tr>\n",
       "      <th>2021-02-26 14:00:00</th>\n",
       "      <td>959</td>\n",
       "      <td>Producto 1</td>\n",
       "      <td>959-Producto 1</td>\n",
       "      <td>1033.0</td>\n",
       "      <td>Distributor</td>\n",
       "      <td>3.861568</td>\n",
       "      <td>0.000000</td>\n",
       "    </tr>\n",
       "    <tr>\n",
       "      <th>2021-02-26 15:00:00</th>\n",
       "      <td>959</td>\n",
       "      <td>Producto 1</td>\n",
       "      <td>959-Producto 1</td>\n",
       "      <td>1033.0</td>\n",
       "      <td>Distributor</td>\n",
       "      <td>3.862536</td>\n",
       "      <td>0.000000</td>\n",
       "    </tr>\n",
       "    <tr>\n",
       "      <th>2021-02-26 16:00:00</th>\n",
       "      <td>959</td>\n",
       "      <td>Producto 1</td>\n",
       "      <td>959-Producto 1</td>\n",
       "      <td>1033.0</td>\n",
       "      <td>Distributor</td>\n",
       "      <td>3.862536</td>\n",
       "      <td>0.000968</td>\n",
       "    </tr>\n",
       "    <tr>\n",
       "      <th>2021-02-26 17:00:00</th>\n",
       "      <td>959</td>\n",
       "      <td>Producto 1</td>\n",
       "      <td>959-Producto 1</td>\n",
       "      <td>1033.0</td>\n",
       "      <td>Distributor</td>\n",
       "      <td>3.861568</td>\n",
       "      <td>0.000000</td>\n",
       "    </tr>\n",
       "  </tbody>\n",
       "</table>\n",
       "<p>328141 rows × 7 columns</p>\n",
       "</div>"
      ],
      "text/plain": [
       "                    id_equipo nombre_producto     equipo_producto  capacidad  \\\n",
       "timestamp                                                                      \n",
       "2021-01-18 17:00:00       159  Formula Diesel  159-Formula Diesel    21327.0   \n",
       "2021-01-18 18:00:00       159  Formula Diesel  159-Formula Diesel    21327.0   \n",
       "2021-01-18 19:00:00       159  Formula Diesel  159-Formula Diesel    21327.0   \n",
       "2021-01-18 20:00:00       159  Formula Diesel  159-Formula Diesel    21327.0   \n",
       "2021-01-18 21:00:00       159  Formula Diesel  159-Formula Diesel    21327.0   \n",
       "...                       ...             ...                 ...        ...   \n",
       "2021-02-26 13:00:00       959      Producto 1      959-Producto 1     1033.0   \n",
       "2021-02-26 14:00:00       959      Producto 1      959-Producto 1     1033.0   \n",
       "2021-02-26 15:00:00       959      Producto 1      959-Producto 1     1033.0   \n",
       "2021-02-26 16:00:00       959      Producto 1      959-Producto 1     1033.0   \n",
       "2021-02-26 17:00:00       959      Producto 1      959-Producto 1     1033.0   \n",
       "\n",
       "                           industria  volumen_escl  consumo_escl  \n",
       "timestamp                                                         \n",
       "2021-01-18 17:00:00  Service Station      0.373230      0.003682  \n",
       "2021-01-18 18:00:00  Service Station      0.368941      0.000911  \n",
       "2021-01-18 19:00:00  Service Station      0.368387      0.000900  \n",
       "2021-01-18 20:00:00  Service Station      0.367487      0.000957  \n",
       "2021-01-18 21:00:00  Service Station      0.366531      0.001160  \n",
       "...                              ...           ...           ...  \n",
       "2021-02-26 13:00:00      Distributor      3.861568      0.000000  \n",
       "2021-02-26 14:00:00      Distributor      3.861568      0.000000  \n",
       "2021-02-26 15:00:00      Distributor      3.862536      0.000000  \n",
       "2021-02-26 16:00:00      Distributor      3.862536      0.000968  \n",
       "2021-02-26 17:00:00      Distributor      3.861568      0.000000  \n",
       "\n",
       "[328141 rows x 7 columns]"
      ]
     },
     "execution_count": 3,
     "metadata": {},
     "output_type": "execute_result"
    }
   ],
   "source": [
    "curated_df"
   ]
  },
  {
   "cell_type": "code",
   "execution_count": 4,
   "metadata": {},
   "outputs": [
    {
     "data": {
      "text/plain": [
       "array(['159', '2', '210', '220', '227', '248', '299', '346', '356', '357',\n",
       "       '421', '429', '431', '433', '439', '441', '453', '455', '459',\n",
       "       '477', '479', '480', '484', '486', '495', '501', '508', '515',\n",
       "       '520', '531', '533', '537', '540', '541', '543', '550', '551',\n",
       "       '553', '554', '569', '578', '593', '595', '600', '618', '626',\n",
       "       '627', '629', '636', '637', '638', '642', '643', '644', '648',\n",
       "       '654', '661', '665', '677', '679', '680', '681', '682', '683',\n",
       "       '686', '687', '696', '697', '698', '704', '715', '717', '719',\n",
       "       '720', '723', '724', '725', '727', '729', '730', '731', '732',\n",
       "       '733', '734', '735', '737', '740', '741', '742', '743', '745',\n",
       "       '746', '747', '751', '759', '763', '764', '765', '769', '770',\n",
       "       '771', '783', '788', '794', '799', '8', '800', '801', '806', '812',\n",
       "       '813', '814', '816', '818', '823', '827', '828', '830', '831',\n",
       "       '838', '841', '842', '849', '851', '853', '854', '867', '869',\n",
       "       '871', '874', '887', '890', '896', '900', '912', '913', '914',\n",
       "       '915', '916', '917', '918', '919', '920', '921', '922', '923',\n",
       "       '924', '925', '926', '927', '928', '929', '930', '946', '958',\n",
       "       '959'], dtype=object)"
      ]
     },
     "execution_count": 4,
     "metadata": {},
     "output_type": "execute_result"
    }
   ],
   "source": [
    "curated_df.id_equipo.unique()"
   ]
  },
  {
   "cell_type": "code",
   "execution_count": 5,
   "metadata": {},
   "outputs": [],
   "source": [
    "co_ss=curated_df[curated_df[\"industria\"]==\"Service Station\"]"
   ]
  },
  {
   "cell_type": "code",
   "execution_count": 6,
   "metadata": {},
   "outputs": [
    {
     "data": {
      "text/html": [
       "<div>\n",
       "<style scoped>\n",
       "    .dataframe tbody tr th:only-of-type {\n",
       "        vertical-align: middle;\n",
       "    }\n",
       "\n",
       "    .dataframe tbody tr th {\n",
       "        vertical-align: top;\n",
       "    }\n",
       "\n",
       "    .dataframe thead th {\n",
       "        text-align: right;\n",
       "    }\n",
       "</style>\n",
       "<table border=\"1\" class=\"dataframe\">\n",
       "  <thead>\n",
       "    <tr style=\"text-align: right;\">\n",
       "      <th></th>\n",
       "      <th>id_equipo</th>\n",
       "      <th>nombre_producto</th>\n",
       "      <th>equipo_producto</th>\n",
       "      <th>capacidad</th>\n",
       "      <th>industria</th>\n",
       "      <th>volumen_escl</th>\n",
       "      <th>consumo_escl</th>\n",
       "    </tr>\n",
       "    <tr>\n",
       "      <th>timestamp</th>\n",
       "      <th></th>\n",
       "      <th></th>\n",
       "      <th></th>\n",
       "      <th></th>\n",
       "      <th></th>\n",
       "      <th></th>\n",
       "      <th></th>\n",
       "    </tr>\n",
       "  </thead>\n",
       "  <tbody>\n",
       "    <tr>\n",
       "      <th>2021-01-18 17:00:00</th>\n",
       "      <td>159</td>\n",
       "      <td>Formula Diesel</td>\n",
       "      <td>159-Formula Diesel</td>\n",
       "      <td>21327.0</td>\n",
       "      <td>Service Station</td>\n",
       "      <td>0.373230</td>\n",
       "      <td>0.003682</td>\n",
       "    </tr>\n",
       "    <tr>\n",
       "      <th>2021-01-18 18:00:00</th>\n",
       "      <td>159</td>\n",
       "      <td>Formula Diesel</td>\n",
       "      <td>159-Formula Diesel</td>\n",
       "      <td>21327.0</td>\n",
       "      <td>Service Station</td>\n",
       "      <td>0.368941</td>\n",
       "      <td>0.000911</td>\n",
       "    </tr>\n",
       "    <tr>\n",
       "      <th>2021-01-18 19:00:00</th>\n",
       "      <td>159</td>\n",
       "      <td>Formula Diesel</td>\n",
       "      <td>159-Formula Diesel</td>\n",
       "      <td>21327.0</td>\n",
       "      <td>Service Station</td>\n",
       "      <td>0.368387</td>\n",
       "      <td>0.000900</td>\n",
       "    </tr>\n",
       "    <tr>\n",
       "      <th>2021-01-18 20:00:00</th>\n",
       "      <td>159</td>\n",
       "      <td>Formula Diesel</td>\n",
       "      <td>159-Formula Diesel</td>\n",
       "      <td>21327.0</td>\n",
       "      <td>Service Station</td>\n",
       "      <td>0.367487</td>\n",
       "      <td>0.000957</td>\n",
       "    </tr>\n",
       "    <tr>\n",
       "      <th>2021-01-18 21:00:00</th>\n",
       "      <td>159</td>\n",
       "      <td>Formula Diesel</td>\n",
       "      <td>159-Formula Diesel</td>\n",
       "      <td>21327.0</td>\n",
       "      <td>Service Station</td>\n",
       "      <td>0.366531</td>\n",
       "      <td>0.001160</td>\n",
       "    </tr>\n",
       "    <tr>\n",
       "      <th>...</th>\n",
       "      <td>...</td>\n",
       "      <td>...</td>\n",
       "      <td>...</td>\n",
       "      <td>...</td>\n",
       "      <td>...</td>\n",
       "      <td>...</td>\n",
       "      <td>...</td>\n",
       "    </tr>\n",
       "    <tr>\n",
       "      <th>2021-03-31 19:00:00</th>\n",
       "      <td>900</td>\n",
       "      <td>VP Nafta</td>\n",
       "      <td>900-VP Nafta</td>\n",
       "      <td>20750.0</td>\n",
       "      <td>Service Station</td>\n",
       "      <td>0.893244</td>\n",
       "      <td>0.010990</td>\n",
       "    </tr>\n",
       "    <tr>\n",
       "      <th>2021-03-31 20:00:00</th>\n",
       "      <td>900</td>\n",
       "      <td>VP Nafta</td>\n",
       "      <td>900-VP Nafta</td>\n",
       "      <td>20750.0</td>\n",
       "      <td>Service Station</td>\n",
       "      <td>0.883181</td>\n",
       "      <td>0.010970</td>\n",
       "    </tr>\n",
       "    <tr>\n",
       "      <th>2021-03-31 21:00:00</th>\n",
       "      <td>900</td>\n",
       "      <td>VP Nafta</td>\n",
       "      <td>900-VP Nafta</td>\n",
       "      <td>20750.0</td>\n",
       "      <td>Service Station</td>\n",
       "      <td>0.870602</td>\n",
       "      <td>0.011596</td>\n",
       "    </tr>\n",
       "    <tr>\n",
       "      <th>2021-03-31 22:00:00</th>\n",
       "      <td>900</td>\n",
       "      <td>VP Nafta</td>\n",
       "      <td>900-VP Nafta</td>\n",
       "      <td>20750.0</td>\n",
       "      <td>Service Station</td>\n",
       "      <td>0.859952</td>\n",
       "      <td>0.004506</td>\n",
       "    </tr>\n",
       "    <tr>\n",
       "      <th>2021-03-31 23:00:00</th>\n",
       "      <td>900</td>\n",
       "      <td>VP Nafta</td>\n",
       "      <td>900-VP Nafta</td>\n",
       "      <td>20750.0</td>\n",
       "      <td>Service Station</td>\n",
       "      <td>0.855301</td>\n",
       "      <td>0.005325</td>\n",
       "    </tr>\n",
       "  </tbody>\n",
       "</table>\n",
       "<p>86092 rows × 7 columns</p>\n",
       "</div>"
      ],
      "text/plain": [
       "                    id_equipo nombre_producto     equipo_producto  capacidad  \\\n",
       "timestamp                                                                      \n",
       "2021-01-18 17:00:00       159  Formula Diesel  159-Formula Diesel    21327.0   \n",
       "2021-01-18 18:00:00       159  Formula Diesel  159-Formula Diesel    21327.0   \n",
       "2021-01-18 19:00:00       159  Formula Diesel  159-Formula Diesel    21327.0   \n",
       "2021-01-18 20:00:00       159  Formula Diesel  159-Formula Diesel    21327.0   \n",
       "2021-01-18 21:00:00       159  Formula Diesel  159-Formula Diesel    21327.0   \n",
       "...                       ...             ...                 ...        ...   \n",
       "2021-03-31 19:00:00       900        VP Nafta        900-VP Nafta    20750.0   \n",
       "2021-03-31 20:00:00       900        VP Nafta        900-VP Nafta    20750.0   \n",
       "2021-03-31 21:00:00       900        VP Nafta        900-VP Nafta    20750.0   \n",
       "2021-03-31 22:00:00       900        VP Nafta        900-VP Nafta    20750.0   \n",
       "2021-03-31 23:00:00       900        VP Nafta        900-VP Nafta    20750.0   \n",
       "\n",
       "                           industria  volumen_escl  consumo_escl  \n",
       "timestamp                                                         \n",
       "2021-01-18 17:00:00  Service Station      0.373230      0.003682  \n",
       "2021-01-18 18:00:00  Service Station      0.368941      0.000911  \n",
       "2021-01-18 19:00:00  Service Station      0.368387      0.000900  \n",
       "2021-01-18 20:00:00  Service Station      0.367487      0.000957  \n",
       "2021-01-18 21:00:00  Service Station      0.366531      0.001160  \n",
       "...                              ...           ...           ...  \n",
       "2021-03-31 19:00:00  Service Station      0.893244      0.010990  \n",
       "2021-03-31 20:00:00  Service Station      0.883181      0.010970  \n",
       "2021-03-31 21:00:00  Service Station      0.870602      0.011596  \n",
       "2021-03-31 22:00:00  Service Station      0.859952      0.004506  \n",
       "2021-03-31 23:00:00  Service Station      0.855301      0.005325  \n",
       "\n",
       "[86092 rows x 7 columns]"
      ]
     },
     "execution_count": 6,
     "metadata": {},
     "output_type": "execute_result"
    }
   ],
   "source": [
    "co_ss"
   ]
  },
  {
   "cell_type": "code",
   "execution_count": 7,
   "metadata": {},
   "outputs": [
    {
     "data": {
      "text/plain": [
       "array(['Formula Diesel', 'Nafta Super', 'V-Power Diesel', 'V-Power Nafta',\n",
       "       'D500', 'Infinia Diesel', 'Infinia Nafta', 'Euro Diesel',\n",
       "       'Formula', 'Super', 'VP-Diesel', 'VP-Nafta', 'Nafta V-Power',\n",
       "       'V-Power Nitro', 'VP Nafta', 'Diesel 500', 'Product 2', 'Diesel',\n",
       "       'Quantum Diesel', 'Quantum Nafta', 'Euro', 'Premium', 'VP Diesel'],\n",
       "      dtype=object)"
      ]
     },
     "execution_count": 7,
     "metadata": {},
     "output_type": "execute_result"
    }
   ],
   "source": [
    "co_ss.nombre_producto.unique()"
   ]
  },
  {
   "cell_type": "code",
   "execution_count": 6,
   "metadata": {},
   "outputs": [],
   "source": [
    "co_ss_FD=co_ss[co_ss[\"nombre_producto\"]== \"Formula Diesel\"] "
   ]
  },
  {
   "cell_type": "code",
   "execution_count": 9,
   "metadata": {},
   "outputs": [
    {
     "data": {
      "text/html": [
       "<div>\n",
       "<style scoped>\n",
       "    .dataframe tbody tr th:only-of-type {\n",
       "        vertical-align: middle;\n",
       "    }\n",
       "\n",
       "    .dataframe tbody tr th {\n",
       "        vertical-align: top;\n",
       "    }\n",
       "\n",
       "    .dataframe thead th {\n",
       "        text-align: right;\n",
       "    }\n",
       "</style>\n",
       "<table border=\"1\" class=\"dataframe\">\n",
       "  <thead>\n",
       "    <tr style=\"text-align: right;\">\n",
       "      <th></th>\n",
       "      <th>id_equipo</th>\n",
       "      <th>nombre_producto</th>\n",
       "      <th>equipo_producto</th>\n",
       "      <th>capacidad</th>\n",
       "      <th>industria</th>\n",
       "      <th>volumen_escl</th>\n",
       "      <th>consumo_escl</th>\n",
       "    </tr>\n",
       "    <tr>\n",
       "      <th>timestamp</th>\n",
       "      <th></th>\n",
       "      <th></th>\n",
       "      <th></th>\n",
       "      <th></th>\n",
       "      <th></th>\n",
       "      <th></th>\n",
       "      <th></th>\n",
       "    </tr>\n",
       "  </thead>\n",
       "  <tbody>\n",
       "    <tr>\n",
       "      <th>2021-01-18 17:00:00</th>\n",
       "      <td>159</td>\n",
       "      <td>Formula Diesel</td>\n",
       "      <td>159-Formula Diesel</td>\n",
       "      <td>21327.0</td>\n",
       "      <td>Service Station</td>\n",
       "      <td>0.373230</td>\n",
       "      <td>0.003682</td>\n",
       "    </tr>\n",
       "    <tr>\n",
       "      <th>2021-01-18 18:00:00</th>\n",
       "      <td>159</td>\n",
       "      <td>Formula Diesel</td>\n",
       "      <td>159-Formula Diesel</td>\n",
       "      <td>21327.0</td>\n",
       "      <td>Service Station</td>\n",
       "      <td>0.368941</td>\n",
       "      <td>0.000911</td>\n",
       "    </tr>\n",
       "    <tr>\n",
       "      <th>2021-01-18 19:00:00</th>\n",
       "      <td>159</td>\n",
       "      <td>Formula Diesel</td>\n",
       "      <td>159-Formula Diesel</td>\n",
       "      <td>21327.0</td>\n",
       "      <td>Service Station</td>\n",
       "      <td>0.368387</td>\n",
       "      <td>0.000900</td>\n",
       "    </tr>\n",
       "    <tr>\n",
       "      <th>2021-01-18 20:00:00</th>\n",
       "      <td>159</td>\n",
       "      <td>Formula Diesel</td>\n",
       "      <td>159-Formula Diesel</td>\n",
       "      <td>21327.0</td>\n",
       "      <td>Service Station</td>\n",
       "      <td>0.367487</td>\n",
       "      <td>0.000957</td>\n",
       "    </tr>\n",
       "    <tr>\n",
       "      <th>2021-01-18 21:00:00</th>\n",
       "      <td>159</td>\n",
       "      <td>Formula Diesel</td>\n",
       "      <td>159-Formula Diesel</td>\n",
       "      <td>21327.0</td>\n",
       "      <td>Service Station</td>\n",
       "      <td>0.366531</td>\n",
       "      <td>0.001160</td>\n",
       "    </tr>\n",
       "    <tr>\n",
       "      <th>...</th>\n",
       "      <td>...</td>\n",
       "      <td>...</td>\n",
       "      <td>...</td>\n",
       "      <td>...</td>\n",
       "      <td>...</td>\n",
       "      <td>...</td>\n",
       "      <td>...</td>\n",
       "    </tr>\n",
       "    <tr>\n",
       "      <th>2021-03-31 19:00:00</th>\n",
       "      <td>900</td>\n",
       "      <td>Formula Diesel</td>\n",
       "      <td>900-Formula Diesel</td>\n",
       "      <td>63250.0</td>\n",
       "      <td>Service Station</td>\n",
       "      <td>0.568822</td>\n",
       "      <td>0.005642</td>\n",
       "    </tr>\n",
       "    <tr>\n",
       "      <th>2021-03-31 20:00:00</th>\n",
       "      <td>900</td>\n",
       "      <td>Formula Diesel</td>\n",
       "      <td>900-Formula Diesel</td>\n",
       "      <td>63250.0</td>\n",
       "      <td>Service Station</td>\n",
       "      <td>0.560571</td>\n",
       "      <td>0.002733</td>\n",
       "    </tr>\n",
       "    <tr>\n",
       "      <th>2021-03-31 21:00:00</th>\n",
       "      <td>900</td>\n",
       "      <td>Formula Diesel</td>\n",
       "      <td>900-Formula Diesel</td>\n",
       "      <td>63250.0</td>\n",
       "      <td>Service Station</td>\n",
       "      <td>0.560348</td>\n",
       "      <td>0.000842</td>\n",
       "    </tr>\n",
       "    <tr>\n",
       "      <th>2021-03-31 22:00:00</th>\n",
       "      <td>900</td>\n",
       "      <td>Formula Diesel</td>\n",
       "      <td>900-Formula Diesel</td>\n",
       "      <td>63250.0</td>\n",
       "      <td>Service Station</td>\n",
       "      <td>0.559612</td>\n",
       "      <td>0.000065</td>\n",
       "    </tr>\n",
       "    <tr>\n",
       "      <th>2021-03-31 23:00:00</th>\n",
       "      <td>900</td>\n",
       "      <td>Formula Diesel</td>\n",
       "      <td>900-Formula Diesel</td>\n",
       "      <td>63250.0</td>\n",
       "      <td>Service Station</td>\n",
       "      <td>0.559612</td>\n",
       "      <td>0.000028</td>\n",
       "    </tr>\n",
       "  </tbody>\n",
       "</table>\n",
       "<p>12043 rows × 7 columns</p>\n",
       "</div>"
      ],
      "text/plain": [
       "                    id_equipo nombre_producto     equipo_producto  capacidad  \\\n",
       "timestamp                                                                      \n",
       "2021-01-18 17:00:00       159  Formula Diesel  159-Formula Diesel    21327.0   \n",
       "2021-01-18 18:00:00       159  Formula Diesel  159-Formula Diesel    21327.0   \n",
       "2021-01-18 19:00:00       159  Formula Diesel  159-Formula Diesel    21327.0   \n",
       "2021-01-18 20:00:00       159  Formula Diesel  159-Formula Diesel    21327.0   \n",
       "2021-01-18 21:00:00       159  Formula Diesel  159-Formula Diesel    21327.0   \n",
       "...                       ...             ...                 ...        ...   \n",
       "2021-03-31 19:00:00       900  Formula Diesel  900-Formula Diesel    63250.0   \n",
       "2021-03-31 20:00:00       900  Formula Diesel  900-Formula Diesel    63250.0   \n",
       "2021-03-31 21:00:00       900  Formula Diesel  900-Formula Diesel    63250.0   \n",
       "2021-03-31 22:00:00       900  Formula Diesel  900-Formula Diesel    63250.0   \n",
       "2021-03-31 23:00:00       900  Formula Diesel  900-Formula Diesel    63250.0   \n",
       "\n",
       "                           industria  volumen_escl  consumo_escl  \n",
       "timestamp                                                         \n",
       "2021-01-18 17:00:00  Service Station      0.373230      0.003682  \n",
       "2021-01-18 18:00:00  Service Station      0.368941      0.000911  \n",
       "2021-01-18 19:00:00  Service Station      0.368387      0.000900  \n",
       "2021-01-18 20:00:00  Service Station      0.367487      0.000957  \n",
       "2021-01-18 21:00:00  Service Station      0.366531      0.001160  \n",
       "...                              ...           ...           ...  \n",
       "2021-03-31 19:00:00  Service Station      0.568822      0.005642  \n",
       "2021-03-31 20:00:00  Service Station      0.560571      0.002733  \n",
       "2021-03-31 21:00:00  Service Station      0.560348      0.000842  \n",
       "2021-03-31 22:00:00  Service Station      0.559612      0.000065  \n",
       "2021-03-31 23:00:00  Service Station      0.559612      0.000028  \n",
       "\n",
       "[12043 rows x 7 columns]"
      ]
     },
     "execution_count": 9,
     "metadata": {},
     "output_type": "execute_result"
    }
   ],
   "source": [
    "co_ss_FD"
   ]
  },
  {
   "cell_type": "code",
   "execution_count": 10,
   "metadata": {},
   "outputs": [
    {
     "data": {
      "text/plain": [
       "array(['159', '429', '477', '495', '841', '900'], dtype=object)"
      ]
     },
     "execution_count": 10,
     "metadata": {},
     "output_type": "execute_result"
    }
   ],
   "source": [
    "co_ss_FD.id_equipo.unique()"
   ]
  },
  {
   "cell_type": "code",
   "execution_count": 11,
   "metadata": {},
   "outputs": [
    {
     "data": {
      "text/plain": [
       "2160"
      ]
     },
     "execution_count": 11,
     "metadata": {},
     "output_type": "execute_result"
    }
   ],
   "source": [
    "len(co_ss_FD[co_ss_FD[\"id_equipo\"]==\"477\"])"
   ]
  },
  {
   "cell_type": "code",
   "execution_count": 12,
   "metadata": {},
   "outputs": [
    {
     "data": {
      "text/plain": [
       "2159"
      ]
     },
     "execution_count": 12,
     "metadata": {},
     "output_type": "execute_result"
    }
   ],
   "source": [
    "len(co_ss_FD[co_ss_FD[\"id_equipo\"]==\"495\"])"
   ]
  },
  {
   "cell_type": "code",
   "execution_count": 13,
   "metadata": {},
   "outputs": [
    {
     "data": {
      "text/plain": [
       "1669"
      ]
     },
     "execution_count": 13,
     "metadata": {},
     "output_type": "execute_result"
    }
   ],
   "source": [
    "len(co_ss_FD[co_ss_FD[\"id_equipo\"]==\"841\"])"
   ]
  },
  {
   "cell_type": "code",
   "execution_count": 14,
   "metadata": {},
   "outputs": [
    {
     "data": {
      "text/plain": [
       "2160"
      ]
     },
     "execution_count": 14,
     "metadata": {},
     "output_type": "execute_result"
    }
   ],
   "source": [
    "len(co_ss_FD[co_ss_FD[\"id_equipo\"]==\"900\"])"
   ]
  },
  {
   "cell_type": "code",
   "execution_count": 15,
   "metadata": {},
   "outputs": [
    {
     "data": {
      "text/plain": [
       "1735"
      ]
     },
     "execution_count": 15,
     "metadata": {},
     "output_type": "execute_result"
    }
   ],
   "source": [
    "len(co_ss_FD[co_ss_FD[\"id_equipo\"]==\"159\"])"
   ]
  },
  {
   "cell_type": "code",
   "execution_count": 16,
   "metadata": {},
   "outputs": [
    {
     "data": {
      "text/plain": [
       "2160"
      ]
     },
     "execution_count": 16,
     "metadata": {},
     "output_type": "execute_result"
    }
   ],
   "source": [
    "len(co_ss_FD[co_ss_FD[\"id_equipo\"]==\"429\"])"
   ]
  },
  {
   "cell_type": "code",
   "execution_count": 7,
   "metadata": {},
   "outputs": [],
   "source": [
    "co_ss_FD= co_ss_FD[co_ss_FD[\"id_equipo\"]!=\"841\"] ##todos menos el que tiene menos observaciones"
   ]
  },
  {
   "cell_type": "code",
   "execution_count": 18,
   "metadata": {},
   "outputs": [
    {
     "data": {
      "text/plain": [
       "array(['159', '429', '477', '495', '900'], dtype=object)"
      ]
     },
     "execution_count": 18,
     "metadata": {},
     "output_type": "execute_result"
    }
   ],
   "source": [
    "co_ss_FD.id_equipo.unique()"
   ]
  },
  {
   "cell_type": "code",
   "execution_count": 8,
   "metadata": {},
   "outputs": [],
   "source": [
    "co_ss_FD=co_ss_FD.loc[\"2021-03-15 00:00:00\":]"
   ]
  },
  {
   "cell_type": "code",
   "execution_count": 20,
   "metadata": {},
   "outputs": [
    {
     "data": {
      "text/html": [
       "<div>\n",
       "<style scoped>\n",
       "    .dataframe tbody tr th:only-of-type {\n",
       "        vertical-align: middle;\n",
       "    }\n",
       "\n",
       "    .dataframe tbody tr th {\n",
       "        vertical-align: top;\n",
       "    }\n",
       "\n",
       "    .dataframe thead th {\n",
       "        text-align: right;\n",
       "    }\n",
       "</style>\n",
       "<table border=\"1\" class=\"dataframe\">\n",
       "  <thead>\n",
       "    <tr style=\"text-align: right;\">\n",
       "      <th></th>\n",
       "      <th>id_equipo</th>\n",
       "      <th>nombre_producto</th>\n",
       "      <th>equipo_producto</th>\n",
       "      <th>capacidad</th>\n",
       "      <th>industria</th>\n",
       "      <th>volumen_escl</th>\n",
       "      <th>consumo_escl</th>\n",
       "    </tr>\n",
       "    <tr>\n",
       "      <th>timestamp</th>\n",
       "      <th></th>\n",
       "      <th></th>\n",
       "      <th></th>\n",
       "      <th></th>\n",
       "      <th></th>\n",
       "      <th></th>\n",
       "      <th></th>\n",
       "    </tr>\n",
       "  </thead>\n",
       "  <tbody>\n",
       "    <tr>\n",
       "      <th>2021-03-15 00:00:00</th>\n",
       "      <td>159</td>\n",
       "      <td>Formula Diesel</td>\n",
       "      <td>159-Formula Diesel</td>\n",
       "      <td>21327.0</td>\n",
       "      <td>Service Station</td>\n",
       "      <td>0.377464</td>\n",
       "      <td>0.000000</td>\n",
       "    </tr>\n",
       "    <tr>\n",
       "      <th>2021-03-15 01:00:00</th>\n",
       "      <td>159</td>\n",
       "      <td>Formula Diesel</td>\n",
       "      <td>159-Formula Diesel</td>\n",
       "      <td>21327.0</td>\n",
       "      <td>Service Station</td>\n",
       "      <td>0.377464</td>\n",
       "      <td>0.000280</td>\n",
       "    </tr>\n",
       "    <tr>\n",
       "      <th>2021-03-15 02:00:00</th>\n",
       "      <td>159</td>\n",
       "      <td>Formula Diesel</td>\n",
       "      <td>159-Formula Diesel</td>\n",
       "      <td>21327.0</td>\n",
       "      <td>Service Station</td>\n",
       "      <td>0.377184</td>\n",
       "      <td>0.000000</td>\n",
       "    </tr>\n",
       "    <tr>\n",
       "      <th>2021-03-15 03:00:00</th>\n",
       "      <td>159</td>\n",
       "      <td>Formula Diesel</td>\n",
       "      <td>159-Formula Diesel</td>\n",
       "      <td>21327.0</td>\n",
       "      <td>Service Station</td>\n",
       "      <td>0.377184</td>\n",
       "      <td>0.000000</td>\n",
       "    </tr>\n",
       "    <tr>\n",
       "      <th>2021-03-15 04:00:00</th>\n",
       "      <td>159</td>\n",
       "      <td>Formula Diesel</td>\n",
       "      <td>159-Formula Diesel</td>\n",
       "      <td>21327.0</td>\n",
       "      <td>Service Station</td>\n",
       "      <td>0.377184</td>\n",
       "      <td>0.000000</td>\n",
       "    </tr>\n",
       "    <tr>\n",
       "      <th>...</th>\n",
       "      <td>...</td>\n",
       "      <td>...</td>\n",
       "      <td>...</td>\n",
       "      <td>...</td>\n",
       "      <td>...</td>\n",
       "      <td>...</td>\n",
       "      <td>...</td>\n",
       "    </tr>\n",
       "    <tr>\n",
       "      <th>2021-03-31 19:00:00</th>\n",
       "      <td>900</td>\n",
       "      <td>Formula Diesel</td>\n",
       "      <td>900-Formula Diesel</td>\n",
       "      <td>63250.0</td>\n",
       "      <td>Service Station</td>\n",
       "      <td>0.568822</td>\n",
       "      <td>0.005642</td>\n",
       "    </tr>\n",
       "    <tr>\n",
       "      <th>2021-03-31 20:00:00</th>\n",
       "      <td>900</td>\n",
       "      <td>Formula Diesel</td>\n",
       "      <td>900-Formula Diesel</td>\n",
       "      <td>63250.0</td>\n",
       "      <td>Service Station</td>\n",
       "      <td>0.560571</td>\n",
       "      <td>0.002733</td>\n",
       "    </tr>\n",
       "    <tr>\n",
       "      <th>2021-03-31 21:00:00</th>\n",
       "      <td>900</td>\n",
       "      <td>Formula Diesel</td>\n",
       "      <td>900-Formula Diesel</td>\n",
       "      <td>63250.0</td>\n",
       "      <td>Service Station</td>\n",
       "      <td>0.560348</td>\n",
       "      <td>0.000842</td>\n",
       "    </tr>\n",
       "    <tr>\n",
       "      <th>2021-03-31 22:00:00</th>\n",
       "      <td>900</td>\n",
       "      <td>Formula Diesel</td>\n",
       "      <td>900-Formula Diesel</td>\n",
       "      <td>63250.0</td>\n",
       "      <td>Service Station</td>\n",
       "      <td>0.559612</td>\n",
       "      <td>0.000065</td>\n",
       "    </tr>\n",
       "    <tr>\n",
       "      <th>2021-03-31 23:00:00</th>\n",
       "      <td>900</td>\n",
       "      <td>Formula Diesel</td>\n",
       "      <td>900-Formula Diesel</td>\n",
       "      <td>63250.0</td>\n",
       "      <td>Service Station</td>\n",
       "      <td>0.559612</td>\n",
       "      <td>0.000028</td>\n",
       "    </tr>\n",
       "  </tbody>\n",
       "</table>\n",
       "<p>2039 rows × 7 columns</p>\n",
       "</div>"
      ],
      "text/plain": [
       "                    id_equipo nombre_producto     equipo_producto  capacidad  \\\n",
       "timestamp                                                                      \n",
       "2021-03-15 00:00:00       159  Formula Diesel  159-Formula Diesel    21327.0   \n",
       "2021-03-15 01:00:00       159  Formula Diesel  159-Formula Diesel    21327.0   \n",
       "2021-03-15 02:00:00       159  Formula Diesel  159-Formula Diesel    21327.0   \n",
       "2021-03-15 03:00:00       159  Formula Diesel  159-Formula Diesel    21327.0   \n",
       "2021-03-15 04:00:00       159  Formula Diesel  159-Formula Diesel    21327.0   \n",
       "...                       ...             ...                 ...        ...   \n",
       "2021-03-31 19:00:00       900  Formula Diesel  900-Formula Diesel    63250.0   \n",
       "2021-03-31 20:00:00       900  Formula Diesel  900-Formula Diesel    63250.0   \n",
       "2021-03-31 21:00:00       900  Formula Diesel  900-Formula Diesel    63250.0   \n",
       "2021-03-31 22:00:00       900  Formula Diesel  900-Formula Diesel    63250.0   \n",
       "2021-03-31 23:00:00       900  Formula Diesel  900-Formula Diesel    63250.0   \n",
       "\n",
       "                           industria  volumen_escl  consumo_escl  \n",
       "timestamp                                                         \n",
       "2021-03-15 00:00:00  Service Station      0.377464      0.000000  \n",
       "2021-03-15 01:00:00  Service Station      0.377464      0.000280  \n",
       "2021-03-15 02:00:00  Service Station      0.377184      0.000000  \n",
       "2021-03-15 03:00:00  Service Station      0.377184      0.000000  \n",
       "2021-03-15 04:00:00  Service Station      0.377184      0.000000  \n",
       "...                              ...           ...           ...  \n",
       "2021-03-31 19:00:00  Service Station      0.568822      0.005642  \n",
       "2021-03-31 20:00:00  Service Station      0.560571      0.002733  \n",
       "2021-03-31 21:00:00  Service Station      0.560348      0.000842  \n",
       "2021-03-31 22:00:00  Service Station      0.559612      0.000065  \n",
       "2021-03-31 23:00:00  Service Station      0.559612      0.000028  \n",
       "\n",
       "[2039 rows x 7 columns]"
      ]
     },
     "execution_count": 20,
     "metadata": {},
     "output_type": "execute_result"
    }
   ],
   "source": [
    "co_ss_FD"
   ]
  },
  {
   "cell_type": "code",
   "execution_count": 21,
   "metadata": {},
   "outputs": [
    {
     "name": "stdout",
     "output_type": "stream",
     "text": [
      "<class 'pandas.core.frame.DataFrame'>\n",
      "DatetimeIndex: 2039 entries, 2021-03-15 00:00:00 to 2021-03-31 23:00:00\n",
      "Data columns (total 7 columns):\n",
      " #   Column           Non-Null Count  Dtype  \n",
      "---  ------           --------------  -----  \n",
      " 0   id_equipo        2039 non-null   object \n",
      " 1   nombre_producto  2039 non-null   object \n",
      " 2   equipo_producto  2039 non-null   object \n",
      " 3   capacidad        2039 non-null   float32\n",
      " 4   industria        2039 non-null   object \n",
      " 5   volumen_escl     2039 non-null   float32\n",
      " 6   consumo_escl     2039 non-null   float32\n",
      "dtypes: float32(3), object(4)\n",
      "memory usage: 103.5+ KB\n"
     ]
    }
   ],
   "source": [
    "co_ss_FD.info()"
   ]
  },
  {
   "cell_type": "code",
   "execution_count": 22,
   "metadata": {},
   "outputs": [],
   "source": [
    "y=co_ss_FD[\"consumo_escl\"]"
   ]
  },
  {
   "cell_type": "code",
   "execution_count": 23,
   "metadata": {},
   "outputs": [
    {
     "data": {
      "image/png": "[encoded data removed]",
      "text/plain": [
       "<Figure size 432x288 with 1 Axes>"
      ]
     },
     "metadata": {
      "needs_background": "light"
     },
     "output_type": "display_data"
    }
   ],
   "source": [
    "fig, ax= plt.subplots();#figsize=(9,6))\n",
    "y.plot(color=\"red\")\n",
    "ax.set_xlabel('Time')\n",
    "ax.set_ylabel('Volumen')\n",
    "ax.set_title('Consumo por hora')\n",
    "sns.despine()\n",
    "plt.show()"
   ]
  },
  {
   "cell_type": "code",
   "execution_count": 9,
   "metadata": {},
   "outputs": [],
   "source": [
    "data_consumption = co_ss_FD[['equipo_producto', 'consumo_escl']]\n",
    "data_consumption = data_consumption.sort_index()\n",
    "data_consumption.loc[:,'consumo_accum'] = data_consumption.groupby('equipo_producto')['consumo_escl'].transform(\"cumsum\")\n",
    "data_consumption[\"ordinal_datetime\"]=data_consumption.groupby(\"equipo_producto\").transform(\"cumcount\")\n",
    "data_consumption = data_consumption.dropna()"
   ]
  },
  {
   "cell_type": "code",
   "execution_count": 10,
   "metadata": {},
   "outputs": [
    {
     "data": {
      "text/html": [
       "<div>\n",
       "<style scoped>\n",
       "    .dataframe tbody tr th:only-of-type {\n",
       "        vertical-align: middle;\n",
       "    }\n",
       "\n",
       "    .dataframe tbody tr th {\n",
       "        vertical-align: top;\n",
       "    }\n",
       "\n",
       "    .dataframe thead th {\n",
       "        text-align: right;\n",
       "    }\n",
       "</style>\n",
       "<table border=\"1\" class=\"dataframe\">\n",
       "  <thead>\n",
       "    <tr style=\"text-align: right;\">\n",
       "      <th></th>\n",
       "      <th>equipo_producto</th>\n",
       "      <th>consumo_escl</th>\n",
       "      <th>consumo_accum</th>\n",
       "      <th>ordinal_datetime</th>\n",
       "    </tr>\n",
       "    <tr>\n",
       "      <th>timestamp</th>\n",
       "      <th></th>\n",
       "      <th></th>\n",
       "      <th></th>\n",
       "      <th></th>\n",
       "    </tr>\n",
       "  </thead>\n",
       "  <tbody>\n",
       "    <tr>\n",
       "      <th>2021-03-15 00:00:00</th>\n",
       "      <td>159-Formula Diesel</td>\n",
       "      <td>0.000000</td>\n",
       "      <td>0.000000</td>\n",
       "      <td>0</td>\n",
       "    </tr>\n",
       "    <tr>\n",
       "      <th>2021-03-15 00:00:00</th>\n",
       "      <td>429-Formula Diesel</td>\n",
       "      <td>0.001479</td>\n",
       "      <td>0.001479</td>\n",
       "      <td>0</td>\n",
       "    </tr>\n",
       "    <tr>\n",
       "      <th>2021-03-15 00:00:00</th>\n",
       "      <td>900-Formula Diesel</td>\n",
       "      <td>0.000035</td>\n",
       "      <td>0.000035</td>\n",
       "      <td>0</td>\n",
       "    </tr>\n",
       "    <tr>\n",
       "      <th>2021-03-15 00:00:00</th>\n",
       "      <td>477-Formula Diesel</td>\n",
       "      <td>0.002121</td>\n",
       "      <td>0.002121</td>\n",
       "      <td>0</td>\n",
       "    </tr>\n",
       "    <tr>\n",
       "      <th>2021-03-15 00:00:00</th>\n",
       "      <td>495-Formula Diesel</td>\n",
       "      <td>0.000000</td>\n",
       "      <td>0.000000</td>\n",
       "      <td>0</td>\n",
       "    </tr>\n",
       "    <tr>\n",
       "      <th>...</th>\n",
       "      <td>...</td>\n",
       "      <td>...</td>\n",
       "      <td>...</td>\n",
       "      <td>...</td>\n",
       "    </tr>\n",
       "    <tr>\n",
       "      <th>2021-03-31 22:00:00</th>\n",
       "      <td>159-Formula Diesel</td>\n",
       "      <td>0.000000</td>\n",
       "      <td>0.583962</td>\n",
       "      <td>406</td>\n",
       "    </tr>\n",
       "    <tr>\n",
       "      <th>2021-03-31 23:00:00</th>\n",
       "      <td>429-Formula Diesel</td>\n",
       "      <td>0.000228</td>\n",
       "      <td>0.743130</td>\n",
       "      <td>407</td>\n",
       "    </tr>\n",
       "    <tr>\n",
       "      <th>2021-03-31 23:00:00</th>\n",
       "      <td>159-Formula Diesel</td>\n",
       "      <td>0.000249</td>\n",
       "      <td>0.584211</td>\n",
       "      <td>407</td>\n",
       "    </tr>\n",
       "    <tr>\n",
       "      <th>2021-03-31 23:00:00</th>\n",
       "      <td>477-Formula Diesel</td>\n",
       "      <td>0.003261</td>\n",
       "      <td>4.809611</td>\n",
       "      <td>407</td>\n",
       "    </tr>\n",
       "    <tr>\n",
       "      <th>2021-03-31 23:00:00</th>\n",
       "      <td>900-Formula Diesel</td>\n",
       "      <td>0.000028</td>\n",
       "      <td>0.976965</td>\n",
       "      <td>407</td>\n",
       "    </tr>\n",
       "  </tbody>\n",
       "</table>\n",
       "<p>2039 rows × 4 columns</p>\n",
       "</div>"
      ],
      "text/plain": [
       "                        equipo_producto  consumo_escl  consumo_accum  \\\n",
       "timestamp                                                              \n",
       "2021-03-15 00:00:00  159-Formula Diesel      0.000000       0.000000   \n",
       "2021-03-15 00:00:00  429-Formula Diesel      0.001479       0.001479   \n",
       "2021-03-15 00:00:00  900-Formula Diesel      0.000035       0.000035   \n",
       "2021-03-15 00:00:00  477-Formula Diesel      0.002121       0.002121   \n",
       "2021-03-15 00:00:00  495-Formula Diesel      0.000000       0.000000   \n",
       "...                                 ...           ...            ...   \n",
       "2021-03-31 22:00:00  159-Formula Diesel      0.000000       0.583962   \n",
       "2021-03-31 23:00:00  429-Formula Diesel      0.000228       0.743130   \n",
       "2021-03-31 23:00:00  159-Formula Diesel      0.000249       0.584211   \n",
       "2021-03-31 23:00:00  477-Formula Diesel      0.003261       4.809611   \n",
       "2021-03-31 23:00:00  900-Formula Diesel      0.000028       0.976965   \n",
       "\n",
       "                     ordinal_datetime  \n",
       "timestamp                              \n",
       "2021-03-15 00:00:00                 0  \n",
       "2021-03-15 00:00:00                 0  \n",
       "2021-03-15 00:00:00                 0  \n",
       "2021-03-15 00:00:00                 0  \n",
       "2021-03-15 00:00:00                 0  \n",
       "...                               ...  \n",
       "2021-03-31 22:00:00               406  \n",
       "2021-03-31 23:00:00               407  \n",
       "2021-03-31 23:00:00               407  \n",
       "2021-03-31 23:00:00               407  \n",
       "2021-03-31 23:00:00               407  \n",
       "\n",
       "[2039 rows x 4 columns]"
      ]
     },
     "execution_count": 10,
     "metadata": {},
     "output_type": "execute_result"
    }
   ],
   "source": [
    "data_consumption"
   ]
  },
  {
   "cell_type": "code",
   "execution_count": 28,
   "metadata": {},
   "outputs": [],
   "source": [
    "y_=data_consumption[\"consumo_accum\"]"
   ]
  },
  {
   "cell_type": "code",
   "execution_count": 29,
   "metadata": {},
   "outputs": [
    {
     "data": {
      "image/png": "[encoded data removed]",
      "text/plain": [
       "<Figure size 432x288 with 1 Axes>"
      ]
     },
     "metadata": {
      "needs_background": "light"
     },
     "output_type": "display_data"
    }
   ],
   "source": [
    "fig, ax= plt.subplots();#figsize=(9,6))\n",
    "y_.plot(color=\"red\")\n",
    "ax.set_xlabel('Time')\n",
    "ax.set_ylabel('Volumen')\n",
    "ax.set_title('Consumo por hora')\n",
    "sns.despine()\n",
    "plt.show()"
   ]
  },
  {
   "cell_type": "code",
   "execution_count": 13,
   "metadata": {},
   "outputs": [],
   "source": [
    "        # Train\n",
    "        X_train = data_consumption['2021-03-15':'2021-03-28']['ordinal_datetime'].values.reshape(-1, 1)\n",
    "        y_train = data_consumption.loc['2021-03-15':'2021-03-28', 'consumo_accum']\n",
    "\n",
    "        # Test\n",
    "        X_test = data_consumption['2021-03-28':]['ordinal_datetime'].values.reshape(-1, 1)\n",
    "        y_test = data_consumption.loc['2021-03-28':, 'consumo_accum']"
   ]
  },
  {
   "cell_type": "code",
   "execution_count": 14,
   "metadata": {},
   "outputs": [
    {
     "name": "stdout",
     "output_type": "stream",
     "text": [
      "LR: 0.004189 (0.013239)\n",
      "SGD: -57394692805282651365703680.000000 (72797106948767532690964480.000000)\n",
      "NN: 0.004877 (0.013126)\n",
      "KNN: -0.040184 (0.054296)\n",
      "DT: -0.040184 (0.054296)\n",
      "RF: -0.023941 (0.031709)\n",
      "SVR: -0.413643 (0.062441)\n"
     ]
    },
    {
     "data": {
      "image/png": "[encoded data removed]",
      "text/plain": [
       "<Figure size 432x288 with 1 Axes>"
      ]
     },
     "metadata": {
      "needs_background": "light"
     },
     "output_type": "display_data"
    }
   ],
   "source": [
    "# Spot Check Algorithms\n",
    "models = []\n",
    "models.append(('LR', LinearRegression()))\n",
    "models.append(('SGD', SGDRegressor()))\n",
    "models.append(('NN', MLPRegressor(solver = 'lbfgs')))  #neural network\n",
    "models.append(('KNN', KNeighborsRegressor())) \n",
    "models.append(('DT', DecisionTreeRegressor())) \n",
    "models.append(('RF', RandomForestRegressor(n_estimators = 10))) # Ensemble method - collection of many decision trees\n",
    "models.append(('SVR', SVR(gamma='auto'))) # kernel = linear\n",
    "# Evaluate each model in turn\n",
    "results = []\n",
    "names = []\n",
    "for name, model in models:\n",
    "    # TimeSeries Cross validation\n",
    " tscv = TimeSeriesSplit(n_splits=5)\n",
    "    \n",
    " cv_results = cross_val_score(model, X_train, y_train, cv=tscv, scoring='r2')\n",
    " results.append(cv_results)\n",
    " names.append(name)\n",
    " print('%s: %f (%f)' % (name, cv_results.mean(), cv_results.std()))\n",
    "    \n",
    "# Compare Algorithms\n",
    "plt.boxplot(results, labels=names)\n",
    "plt.title('Algorithm Comparison')\n",
    "plt.show()"
   ]
  },
  {
   "cell_type": "code",
   "execution_count": 16,
   "metadata": {},
   "outputs": [
    {
     "data": {
      "image/png": "[encoded data removed]",
      "text/plain": [
       "<Figure size 1440x720 with 1 Axes>"
      ]
     },
     "metadata": {
      "needs_background": "light"
     },
     "output_type": "display_data"
    }
   ],
   "source": [
    "model = LinearRegression()\n",
    "data_site_159 = data_consumption[data_consumption[\"equipo_producto\"] == \"159-Formula Diesel\"]\n",
    "# Train\n",
    "X_train = data_site_159['2021-03-15':'2021-03-28']['ordinal_datetime'].values.reshape(-1, 1)\n",
    "y_train = data_site_159.loc['2021-03-15':'2021-03-28', 'consumo_accum']\n",
    "\n",
    "# Test\n",
    "X_test = data_site_159['2021-03-28':]['ordinal_datetime'].values.reshape(-1, 1)\n",
    "y_test = data_site_159.loc['2021-03-28':, 'consumo_accum']\n",
    "\n",
    "# Predict\n",
    "model.fit(X_train, y_train)\n",
    "pred = model.predict(X_test)\n",
    "y_test_pred = pd.Series(pred, index=y_test.index)\n",
    "\n",
    "# Plot\n",
    "fig = plt.figure(figsize=(20, 10))\n",
    "sns.lineplot(data=y_train, label='Train').set_title(\"Predicción de consumo\")\n",
    "sns.lineplot(data=y_test, label='Test')\n",
    "sns.lineplot(data=y_test_pred, label='Pred')\n",
    "sns.despine()"
   ]
  },
  {
   "cell_type": "code",
   "execution_count": 19,
   "metadata": {},
   "outputs": [
    {
     "name": "stdout",
     "output_type": "stream",
     "text": [
      "explained_variance:  0.9611\n",
      "MAE:  0.0399\n",
      "MSE:  0.0016\n",
      "mean_squared_log_error:  0.0007\n",
      "RMSE:  0.0405\n",
      "r2:  -0.154\n"
     ]
    }
   ],
   "source": [
    "explained_variance=metrics.explained_variance_score(y_test, y_test_pred)\n",
    "mean_absolute_error=metrics.mean_absolute_error(y_test, y_test_pred) \n",
    "mse=metrics.mean_squared_error(y_test, y_test_pred) \n",
    "mean_squared_log_error=metrics.mean_squared_log_error(y_test, y_test_pred)\n",
    "median_absolute_error=metrics.median_absolute_error(y_test, y_test_pred)\n",
    "r2=metrics.r2_score(y_test, y_test_pred)\n",
    "print('explained_variance: ', round(explained_variance,4))    \n",
    "print('MAE: ', round(mean_absolute_error,4))\n",
    "print('MSE: ', round(mse,4))\n",
    "print('mean_squared_log_error: ', round(mean_squared_log_error,4))\n",
    "print('RMSE: ', round(np.sqrt(mse),4))\n",
    "print('r2: ', round(r2,4))"
   ]
  },
  {
   "cell_type": "code",
   "execution_count": 20,
   "metadata": {},
   "outputs": [
    {
     "data": {
      "image/png": "[encoded data removed]",
      "text/plain": [
       "<Figure size 1440x720 with 1 Axes>"
      ]
     },
     "metadata": {
      "needs_background": "light"
     },
     "output_type": "display_data"
    }
   ],
   "source": [
    "model = LinearRegression()\n",
    "data_site_429 = data_consumption[data_consumption[\"equipo_producto\"] == \"429-Formula Diesel\"]\n",
    "# Train\n",
    "X_train = data_site_429['2021-03-15':'2021-03-28']['ordinal_datetime'].values.reshape(-1, 1)\n",
    "y_train = data_site_429.loc['2021-03-15':'2021-03-28', 'consumo_accum']\n",
    "\n",
    "# Test\n",
    "X_test = data_site_429['2021-03-28':]['ordinal_datetime'].values.reshape(-1, 1)\n",
    "y_test = data_site_429.loc['2021-03-28':, 'consumo_accum']\n",
    "\n",
    "# Predict\n",
    "model.fit(X_train, y_train)\n",
    "pred = model.predict(X_test)\n",
    "y_test_pred = pd.Series(pred, index=y_test.index)\n",
    "\n",
    "# Plot\n",
    "fig = plt.figure(figsize=(20, 10))\n",
    "sns.lineplot(data=y_train, label='Train').set_title(\"Predicción de consumo\")\n",
    "sns.lineplot(data=y_test, label='Test')\n",
    "sns.lineplot(data=y_test_pred, label='Pred')\n",
    "sns.despine()"
   ]
  },
  {
   "cell_type": "code",
   "execution_count": 21,
   "metadata": {},
   "outputs": [
    {
     "name": "stdout",
     "output_type": "stream",
     "text": [
      "explained_variance:  0.9162\n",
      "MAE:  0.0165\n",
      "MSE:  0.0003\n",
      "mean_squared_log_error:  0.0001\n",
      "RMSE:  0.018\n",
      "r2:  0.9158\n"
     ]
    }
   ],
   "source": [
    "explained_variance=metrics.explained_variance_score(y_test, y_test_pred)\n",
    "mean_absolute_error=metrics.mean_absolute_error(y_test, y_test_pred) \n",
    "mse=metrics.mean_squared_error(y_test, y_test_pred) \n",
    "mean_squared_log_error=metrics.mean_squared_log_error(y_test, y_test_pred)\n",
    "median_absolute_error=metrics.median_absolute_error(y_test, y_test_pred)\n",
    "r2=metrics.r2_score(y_test, y_test_pred)\n",
    "print('explained_variance: ', round(explained_variance,4))    \n",
    "print('MAE: ', round(mean_absolute_error,4))\n",
    "print('MSE: ', round(mse,4))\n",
    "print('mean_squared_log_error: ', round(mean_squared_log_error,4))\n",
    "print('RMSE: ', round(np.sqrt(mse),4))\n",
    "print('r2: ', round(r2,4))"
   ]
  },
  {
   "cell_type": "code",
   "execution_count": 22,
   "metadata": {},
   "outputs": [
    {
     "data": {
      "image/png": "[encoded data removed]",
      "text/plain": [
       "<Figure size 1440x720 with 1 Axes>"
      ]
     },
     "metadata": {
      "needs_background": "light"
     },
     "output_type": "display_data"
    }
   ],
   "source": [
    "model = LinearRegression()\n",
    "data_site_900 = data_consumption[data_consumption[\"equipo_producto\"] == \"900-Formula Diesel\"]\n",
    "# Train\n",
    "X_train = data_site_900['2021-03-15':'2021-03-28']['ordinal_datetime'].values.reshape(-1, 1)\n",
    "y_train = data_site_900.loc['2021-03-15':'2021-03-28', 'consumo_accum']\n",
    "\n",
    "# Test\n",
    "X_test = data_site_900['2021-03-28':]['ordinal_datetime'].values.reshape(-1, 1)\n",
    "y_test = data_site_900.loc['2021-03-28':, 'consumo_accum']\n",
    "\n",
    "# Predict\n",
    "model.fit(X_train, y_train)\n",
    "pred = model.predict(X_test)\n",
    "y_test_pred = pd.Series(pred, index=y_test.index)\n",
    "\n",
    "# Plot\n",
    "fig = plt.figure(figsize=(20, 10))\n",
    "sns.lineplot(data=y_train, label='Train').set_title(\"Predicción de consumo\")\n",
    "sns.lineplot(data=y_test, label='Test')\n",
    "sns.lineplot(data=y_test_pred, label='Pred')\n",
    "sns.despine()"
   ]
  },
  {
   "cell_type": "code",
   "execution_count": 23,
   "metadata": {},
   "outputs": [
    {
     "name": "stdout",
     "output_type": "stream",
     "text": [
      "explained_variance:  0.8668\n",
      "MAE:  0.0712\n",
      "MSE:  0.0055\n",
      "mean_squared_log_error:  0.0014\n",
      "RMSE:  0.0742\n",
      "r2:  -0.6922\n"
     ]
    }
   ],
   "source": [
    "explained_variance=metrics.explained_variance_score(y_test, y_test_pred)\n",
    "mean_absolute_error=metrics.mean_absolute_error(y_test, y_test_pred) \n",
    "mse=metrics.mean_squared_error(y_test, y_test_pred) \n",
    "mean_squared_log_error=metrics.mean_squared_log_error(y_test, y_test_pred)\n",
    "median_absolute_error=metrics.median_absolute_error(y_test, y_test_pred)\n",
    "r2=metrics.r2_score(y_test, y_test_pred)\n",
    "print('explained_variance: ', round(explained_variance,4))    \n",
    "print('MAE: ', round(mean_absolute_error,4))\n",
    "print('MSE: ', round(mse,4))\n",
    "print('mean_squared_log_error: ', round(mean_squared_log_error,4))\n",
    "print('RMSE: ', round(np.sqrt(mse),4))\n",
    "print('r2: ', round(r2,4))"
   ]
  },
  {
   "cell_type": "code",
   "execution_count": 24,
   "metadata": {},
   "outputs": [
    {
     "data": {
      "image/png": "[encoded data removed]",
      "text/plain": [
       "<Figure size 1440x720 with 1 Axes>"
      ]
     },
     "metadata": {
      "needs_background": "light"
     },
     "output_type": "display_data"
    }
   ],
   "source": [
    "model = LinearRegression()\n",
    "data_site_477 = data_consumption[data_consumption[\"equipo_producto\"] == \"477-Formula Diesel\"]\n",
    "# Train\n",
    "X_train = data_site_477['2021-03-15':'2021-03-28']['ordinal_datetime'].values.reshape(-1, 1)\n",
    "y_train = data_site_477.loc['2021-03-15':'2021-03-28', 'consumo_accum']\n",
    "\n",
    "# Test\n",
    "X_test = data_site_477['2021-03-28':]['ordinal_datetime'].values.reshape(-1, 1)\n",
    "y_test = data_site_477.loc['2021-03-28':, 'consumo_accum']\n",
    "\n",
    "# Predict\n",
    "model.fit(X_train, y_train)\n",
    "pred = model.predict(X_test)\n",
    "y_test_pred = pd.Series(pred, index=y_test.index)\n",
    "\n",
    "# Plot\n",
    "fig = plt.figure(figsize=(20, 10))\n",
    "sns.lineplot(data=y_train, label='Train').set_title(\"Predicción de consumo\")\n",
    "sns.lineplot(data=y_test, label='Test')\n",
    "sns.lineplot(data=y_test_pred, label='Pred')\n",
    "sns.despine()"
   ]
  },
  {
   "cell_type": "code",
   "execution_count": 25,
   "metadata": {},
   "outputs": [
    {
     "name": "stdout",
     "output_type": "stream",
     "text": [
      "explained_variance:  0.9358\n",
      "MAE:  0.1303\n",
      "MSE:  0.0257\n",
      "mean_squared_log_error:  0.0011\n",
      "RMSE:  0.1604\n",
      "r2:  0.836\n"
     ]
    }
   ],
   "source": [
    "explained_variance=metrics.explained_variance_score(y_test, y_test_pred)\n",
    "mean_absolute_error=metrics.mean_absolute_error(y_test, y_test_pred) \n",
    "mse=metrics.mean_squared_error(y_test, y_test_pred) \n",
    "mean_squared_log_error=metrics.mean_squared_log_error(y_test, y_test_pred)\n",
    "median_absolute_error=metrics.median_absolute_error(y_test, y_test_pred)\n",
    "r2=metrics.r2_score(y_test, y_test_pred)\n",
    "print('explained_variance: ', round(explained_variance,4))    \n",
    "print('MAE: ', round(mean_absolute_error,4))\n",
    "print('MSE: ', round(mse,4))\n",
    "print('mean_squared_log_error: ', round(mean_squared_log_error,4))\n",
    "print('RMSE: ', round(np.sqrt(mse),4))\n",
    "print('r2: ', round(r2,4))"
   ]
  },
  {
   "cell_type": "code",
   "execution_count": 26,
   "metadata": {},
   "outputs": [
    {
     "data": {
      "image/png": "[encoded data removed]",
      "text/plain": [
       "<Figure size 1440x720 with 1 Axes>"
      ]
     },
     "metadata": {
      "needs_background": "light"
     },
     "output_type": "display_data"
    }
   ],
   "source": [
    "model = LinearRegression()\n",
    "data_site_495 = data_consumption[data_consumption[\"equipo_producto\"] == \"495-Formula Diesel\"]\n",
    "# Train\n",
    "X_train = data_site_495['2021-03-15':'2021-03-28']['ordinal_datetime'].values.reshape(-1, 1)\n",
    "y_train = data_site_495.loc['2021-03-15':'2021-03-28', 'consumo_accum']\n",
    "\n",
    "# Test\n",
    "X_test = data_site_495['2021-03-28':]['ordinal_datetime'].values.reshape(-1, 1)\n",
    "y_test = data_site_495.loc['2021-03-28':, 'consumo_accum']\n",
    "\n",
    "# Predict\n",
    "model.fit(X_train, y_train)\n",
    "pred = model.predict(X_test)\n",
    "y_test_pred = pd.Series(pred, index=y_test.index)\n",
    "\n",
    "# Plot\n",
    "fig = plt.figure(figsize=(20, 10))\n",
    "sns.lineplot(data=y_train, label='Train').set_title(\"Predicción de consumo\")\n",
    "sns.lineplot(data=y_test, label='Test')\n",
    "sns.lineplot(data=y_test_pred, label='Pred')\n",
    "sns.despine()"
   ]
  },
  {
   "cell_type": "code",
   "execution_count": 27,
   "metadata": {},
   "outputs": [
    {
     "name": "stdout",
     "output_type": "stream",
     "text": [
      "explained_variance:  0.9075\n",
      "MAE:  0.0162\n",
      "MSE:  0.0003\n",
      "mean_squared_log_error:  0.0001\n",
      "RMSE:  0.0181\n",
      "r2:  0.881\n"
     ]
    }
   ],
   "source": [
    "explained_variance=metrics.explained_variance_score(y_test, y_test_pred)\n",
    "mean_absolute_error=metrics.mean_absolute_error(y_test, y_test_pred) \n",
    "mse=metrics.mean_squared_error(y_test, y_test_pred) \n",
    "mean_squared_log_error=metrics.mean_squared_log_error(y_test, y_test_pred)\n",
    "median_absolute_error=metrics.median_absolute_error(y_test, y_test_pred)\n",
    "r2=metrics.r2_score(y_test, y_test_pred)\n",
    "print('explained_variance: ', round(explained_variance,4))    \n",
    "print('MAE: ', round(mean_absolute_error,4))\n",
    "print('MSE: ', round(mse,4))\n",
    "print('mean_squared_log_error: ', round(mean_squared_log_error,4))\n",
    "print('RMSE: ', round(np.sqrt(mse),4))\n",
    "print('r2: ', round(r2,4))"
   ]
  },
  {
   "cell_type": "code",
   "execution_count": 8,
   "metadata": {},
   "outputs": [],
   "source": [
    "co_ss_FD[\"consumo_hour_before\"]=co_ss_FD[\"consumo_escl\"].shift()"
   ]
  },
  {
   "cell_type": "code",
   "execution_count": 9,
   "metadata": {},
   "outputs": [],
   "source": [
    "co_ss_FD[\"diff_consumo\"]=co_ss_FD[\"consumo_escl\"].diff()"
   ]
  },
  {
   "cell_type": "code",
   "execution_count": 10,
   "metadata": {},
   "outputs": [],
   "source": [
    "co_ss_FD[\"consumo_acumulado\"]=co_ss_FD[\"consumo_escl\"].cumsum()"
   ]
  },
  {
   "cell_type": "code",
   "execution_count": 11,
   "metadata": {},
   "outputs": [],
   "source": [
    "co_ss_FD[\"datetime\"]=co_ss_FD.index"
   ]
  },
  {
   "cell_type": "code",
   "execution_count": 12,
   "metadata": {},
   "outputs": [],
   "source": [
    "co_ss_FD[\"ordinal_datetime\"]=co_ss_FD[\"datetime\"].map(dt.datetime.toordinal)"
   ]
  },
  {
   "cell_type": "code",
   "execution_count": 13,
   "metadata": {},
   "outputs": [
    {
     "data": {
      "text/html": [
       "<div>\n",
       "<style scoped>\n",
       "    .dataframe tbody tr th:only-of-type {\n",
       "        vertical-align: middle;\n",
       "    }\n",
       "\n",
       "    .dataframe tbody tr th {\n",
       "        vertical-align: top;\n",
       "    }\n",
       "\n",
       "    .dataframe thead th {\n",
       "        text-align: right;\n",
       "    }\n",
       "</style>\n",
       "<table border=\"1\" class=\"dataframe\">\n",
       "  <thead>\n",
       "    <tr style=\"text-align: right;\">\n",
       "      <th></th>\n",
       "      <th>id_equipo</th>\n",
       "      <th>nombre_producto</th>\n",
       "      <th>equipo_producto</th>\n",
       "      <th>capacidad</th>\n",
       "      <th>industria</th>\n",
       "      <th>volumen_escl</th>\n",
       "      <th>consumo_escl</th>\n",
       "      <th>consumo_hour_before</th>\n",
       "      <th>diff_consumo</th>\n",
       "      <th>consumo_acumulado</th>\n",
       "      <th>datetime</th>\n",
       "      <th>ordinal_datetime</th>\n",
       "    </tr>\n",
       "    <tr>\n",
       "      <th>timestamp</th>\n",
       "      <th></th>\n",
       "      <th></th>\n",
       "      <th></th>\n",
       "      <th></th>\n",
       "      <th></th>\n",
       "      <th></th>\n",
       "      <th></th>\n",
       "      <th></th>\n",
       "      <th></th>\n",
       "      <th></th>\n",
       "      <th></th>\n",
       "      <th></th>\n",
       "    </tr>\n",
       "  </thead>\n",
       "  <tbody>\n",
       "    <tr>\n",
       "      <th>2021-03-15 00:00:00</th>\n",
       "      <td>159</td>\n",
       "      <td>Formula Diesel</td>\n",
       "      <td>159-Formula Diesel</td>\n",
       "      <td>21327.0</td>\n",
       "      <td>Service Station</td>\n",
       "      <td>0.377464</td>\n",
       "      <td>0.000000</td>\n",
       "      <td>NaN</td>\n",
       "      <td>NaN</td>\n",
       "      <td>0.000000</td>\n",
       "      <td>2021-03-15 00:00:00</td>\n",
       "      <td>737864</td>\n",
       "    </tr>\n",
       "    <tr>\n",
       "      <th>2021-03-15 01:00:00</th>\n",
       "      <td>159</td>\n",
       "      <td>Formula Diesel</td>\n",
       "      <td>159-Formula Diesel</td>\n",
       "      <td>21327.0</td>\n",
       "      <td>Service Station</td>\n",
       "      <td>0.377464</td>\n",
       "      <td>0.000280</td>\n",
       "      <td>0.000000</td>\n",
       "      <td>0.000280</td>\n",
       "      <td>0.000280</td>\n",
       "      <td>2021-03-15 01:00:00</td>\n",
       "      <td>737864</td>\n",
       "    </tr>\n",
       "    <tr>\n",
       "      <th>2021-03-15 02:00:00</th>\n",
       "      <td>159</td>\n",
       "      <td>Formula Diesel</td>\n",
       "      <td>159-Formula Diesel</td>\n",
       "      <td>21327.0</td>\n",
       "      <td>Service Station</td>\n",
       "      <td>0.377184</td>\n",
       "      <td>0.000000</td>\n",
       "      <td>0.000280</td>\n",
       "      <td>-0.000280</td>\n",
       "      <td>0.000280</td>\n",
       "      <td>2021-03-15 02:00:00</td>\n",
       "      <td>737864</td>\n",
       "    </tr>\n",
       "    <tr>\n",
       "      <th>2021-03-15 03:00:00</th>\n",
       "      <td>159</td>\n",
       "      <td>Formula Diesel</td>\n",
       "      <td>159-Formula Diesel</td>\n",
       "      <td>21327.0</td>\n",
       "      <td>Service Station</td>\n",
       "      <td>0.377184</td>\n",
       "      <td>0.000000</td>\n",
       "      <td>0.000000</td>\n",
       "      <td>0.000000</td>\n",
       "      <td>0.000280</td>\n",
       "      <td>2021-03-15 03:00:00</td>\n",
       "      <td>737864</td>\n",
       "    </tr>\n",
       "    <tr>\n",
       "      <th>2021-03-15 04:00:00</th>\n",
       "      <td>159</td>\n",
       "      <td>Formula Diesel</td>\n",
       "      <td>159-Formula Diesel</td>\n",
       "      <td>21327.0</td>\n",
       "      <td>Service Station</td>\n",
       "      <td>0.377184</td>\n",
       "      <td>0.000000</td>\n",
       "      <td>0.000000</td>\n",
       "      <td>0.000000</td>\n",
       "      <td>0.000280</td>\n",
       "      <td>2021-03-15 04:00:00</td>\n",
       "      <td>737864</td>\n",
       "    </tr>\n",
       "    <tr>\n",
       "      <th>...</th>\n",
       "      <td>...</td>\n",
       "      <td>...</td>\n",
       "      <td>...</td>\n",
       "      <td>...</td>\n",
       "      <td>...</td>\n",
       "      <td>...</td>\n",
       "      <td>...</td>\n",
       "      <td>...</td>\n",
       "      <td>...</td>\n",
       "      <td>...</td>\n",
       "      <td>...</td>\n",
       "      <td>...</td>\n",
       "    </tr>\n",
       "    <tr>\n",
       "      <th>2021-03-31 19:00:00</th>\n",
       "      <td>900</td>\n",
       "      <td>Formula Diesel</td>\n",
       "      <td>900-Formula Diesel</td>\n",
       "      <td>63250.0</td>\n",
       "      <td>Service Station</td>\n",
       "      <td>0.568822</td>\n",
       "      <td>0.005642</td>\n",
       "      <td>0.000109</td>\n",
       "      <td>0.005533</td>\n",
       "      <td>7.721361</td>\n",
       "      <td>2021-03-31 19:00:00</td>\n",
       "      <td>737880</td>\n",
       "    </tr>\n",
       "    <tr>\n",
       "      <th>2021-03-31 20:00:00</th>\n",
       "      <td>900</td>\n",
       "      <td>Formula Diesel</td>\n",
       "      <td>900-Formula Diesel</td>\n",
       "      <td>63250.0</td>\n",
       "      <td>Service Station</td>\n",
       "      <td>0.560571</td>\n",
       "      <td>0.002733</td>\n",
       "      <td>0.005642</td>\n",
       "      <td>-0.002909</td>\n",
       "      <td>7.724094</td>\n",
       "      <td>2021-03-31 20:00:00</td>\n",
       "      <td>737880</td>\n",
       "    </tr>\n",
       "    <tr>\n",
       "      <th>2021-03-31 21:00:00</th>\n",
       "      <td>900</td>\n",
       "      <td>Formula Diesel</td>\n",
       "      <td>900-Formula Diesel</td>\n",
       "      <td>63250.0</td>\n",
       "      <td>Service Station</td>\n",
       "      <td>0.560348</td>\n",
       "      <td>0.000842</td>\n",
       "      <td>0.002733</td>\n",
       "      <td>-0.001891</td>\n",
       "      <td>7.724936</td>\n",
       "      <td>2021-03-31 21:00:00</td>\n",
       "      <td>737880</td>\n",
       "    </tr>\n",
       "    <tr>\n",
       "      <th>2021-03-31 22:00:00</th>\n",
       "      <td>900</td>\n",
       "      <td>Formula Diesel</td>\n",
       "      <td>900-Formula Diesel</td>\n",
       "      <td>63250.0</td>\n",
       "      <td>Service Station</td>\n",
       "      <td>0.559612</td>\n",
       "      <td>0.000065</td>\n",
       "      <td>0.000842</td>\n",
       "      <td>-0.000777</td>\n",
       "      <td>7.725001</td>\n",
       "      <td>2021-03-31 22:00:00</td>\n",
       "      <td>737880</td>\n",
       "    </tr>\n",
       "    <tr>\n",
       "      <th>2021-03-31 23:00:00</th>\n",
       "      <td>900</td>\n",
       "      <td>Formula Diesel</td>\n",
       "      <td>900-Formula Diesel</td>\n",
       "      <td>63250.0</td>\n",
       "      <td>Service Station</td>\n",
       "      <td>0.559612</td>\n",
       "      <td>0.000028</td>\n",
       "      <td>0.000065</td>\n",
       "      <td>-0.000037</td>\n",
       "      <td>7.725029</td>\n",
       "      <td>2021-03-31 23:00:00</td>\n",
       "      <td>737880</td>\n",
       "    </tr>\n",
       "  </tbody>\n",
       "</table>\n",
       "<p>2039 rows × 12 columns</p>\n",
       "</div>"
      ],
      "text/plain": [
       "                    id_equipo nombre_producto     equipo_producto  capacidad  \\\n",
       "timestamp                                                                      \n",
       "2021-03-15 00:00:00       159  Formula Diesel  159-Formula Diesel    21327.0   \n",
       "2021-03-15 01:00:00       159  Formula Diesel  159-Formula Diesel    21327.0   \n",
       "2021-03-15 02:00:00       159  Formula Diesel  159-Formula Diesel    21327.0   \n",
       "2021-03-15 03:00:00       159  Formula Diesel  159-Formula Diesel    21327.0   \n",
       "2021-03-15 04:00:00       159  Formula Diesel  159-Formula Diesel    21327.0   \n",
       "...                       ...             ...                 ...        ...   \n",
       "2021-03-31 19:00:00       900  Formula Diesel  900-Formula Diesel    63250.0   \n",
       "2021-03-31 20:00:00       900  Formula Diesel  900-Formula Diesel    63250.0   \n",
       "2021-03-31 21:00:00       900  Formula Diesel  900-Formula Diesel    63250.0   \n",
       "2021-03-31 22:00:00       900  Formula Diesel  900-Formula Diesel    63250.0   \n",
       "2021-03-31 23:00:00       900  Formula Diesel  900-Formula Diesel    63250.0   \n",
       "\n",
       "                           industria  volumen_escl  consumo_escl  \\\n",
       "timestamp                                                          \n",
       "2021-03-15 00:00:00  Service Station      0.377464      0.000000   \n",
       "2021-03-15 01:00:00  Service Station      0.377464      0.000280   \n",
       "2021-03-15 02:00:00  Service Station      0.377184      0.000000   \n",
       "2021-03-15 03:00:00  Service Station      0.377184      0.000000   \n",
       "2021-03-15 04:00:00  Service Station      0.377184      0.000000   \n",
       "...                              ...           ...           ...   \n",
       "2021-03-31 19:00:00  Service Station      0.568822      0.005642   \n",
       "2021-03-31 20:00:00  Service Station      0.560571      0.002733   \n",
       "2021-03-31 21:00:00  Service Station      0.560348      0.000842   \n",
       "2021-03-31 22:00:00  Service Station      0.559612      0.000065   \n",
       "2021-03-31 23:00:00  Service Station      0.559612      0.000028   \n",
       "\n",
       "                     consumo_hour_before  diff_consumo  consumo_acumulado  \\\n",
       "timestamp                                                                   \n",
       "2021-03-15 00:00:00                  NaN           NaN           0.000000   \n",
       "2021-03-15 01:00:00             0.000000      0.000280           0.000280   \n",
       "2021-03-15 02:00:00             0.000280     -0.000280           0.000280   \n",
       "2021-03-15 03:00:00             0.000000      0.000000           0.000280   \n",
       "2021-03-15 04:00:00             0.000000      0.000000           0.000280   \n",
       "...                                  ...           ...                ...   \n",
       "2021-03-31 19:00:00             0.000109      0.005533           7.721361   \n",
       "2021-03-31 20:00:00             0.005642     -0.002909           7.724094   \n",
       "2021-03-31 21:00:00             0.002733     -0.001891           7.724936   \n",
       "2021-03-31 22:00:00             0.000842     -0.000777           7.725001   \n",
       "2021-03-31 23:00:00             0.000065     -0.000037           7.725029   \n",
       "\n",
       "                               datetime  ordinal_datetime  \n",
       "timestamp                                                  \n",
       "2021-03-15 00:00:00 2021-03-15 00:00:00            737864  \n",
       "2021-03-15 01:00:00 2021-03-15 01:00:00            737864  \n",
       "2021-03-15 02:00:00 2021-03-15 02:00:00            737864  \n",
       "2021-03-15 03:00:00 2021-03-15 03:00:00            737864  \n",
       "2021-03-15 04:00:00 2021-03-15 04:00:00            737864  \n",
       "...                                 ...               ...  \n",
       "2021-03-31 19:00:00 2021-03-31 19:00:00            737880  \n",
       "2021-03-31 20:00:00 2021-03-31 20:00:00            737880  \n",
       "2021-03-31 21:00:00 2021-03-31 21:00:00            737880  \n",
       "2021-03-31 22:00:00 2021-03-31 22:00:00            737880  \n",
       "2021-03-31 23:00:00 2021-03-31 23:00:00            737880  \n",
       "\n",
       "[2039 rows x 12 columns]"
      ]
     },
     "execution_count": 13,
     "metadata": {},
     "output_type": "execute_result"
    }
   ],
   "source": [
    "co_ss_FD"
   ]
  },
  {
   "cell_type": "code",
   "execution_count": 14,
   "metadata": {},
   "outputs": [],
   "source": [
    "co_ss_FD=co_ss_FD.dropna()"
   ]
  },
  {
   "cell_type": "code",
   "execution_count": 33,
   "metadata": {},
   "outputs": [
    {
     "data": {
      "text/html": [
       "<div>\n",
       "<style scoped>\n",
       "    .dataframe tbody tr th:only-of-type {\n",
       "        vertical-align: middle;\n",
       "    }\n",
       "\n",
       "    .dataframe tbody tr th {\n",
       "        vertical-align: top;\n",
       "    }\n",
       "\n",
       "    .dataframe thead th {\n",
       "        text-align: right;\n",
       "    }\n",
       "</style>\n",
       "<table border=\"1\" class=\"dataframe\">\n",
       "  <thead>\n",
       "    <tr style=\"text-align: right;\">\n",
       "      <th></th>\n",
       "      <th>id_equipo</th>\n",
       "      <th>nombre_producto</th>\n",
       "      <th>equipo_producto</th>\n",
       "      <th>capacidad</th>\n",
       "      <th>industria</th>\n",
       "      <th>volumen_escl</th>\n",
       "      <th>consumo_escl</th>\n",
       "      <th>consumo_hour_before</th>\n",
       "      <th>diff_consumo</th>\n",
       "      <th>consumo_acumulado</th>\n",
       "      <th>datetime</th>\n",
       "      <th>ordinal_datetime</th>\n",
       "    </tr>\n",
       "    <tr>\n",
       "      <th>timestamp</th>\n",
       "      <th></th>\n",
       "      <th></th>\n",
       "      <th></th>\n",
       "      <th></th>\n",
       "      <th></th>\n",
       "      <th></th>\n",
       "      <th></th>\n",
       "      <th></th>\n",
       "      <th></th>\n",
       "      <th></th>\n",
       "      <th></th>\n",
       "      <th></th>\n",
       "    </tr>\n",
       "  </thead>\n",
       "  <tbody>\n",
       "    <tr>\n",
       "      <th>2021-03-15 01:00:00</th>\n",
       "      <td>159</td>\n",
       "      <td>Formula Diesel</td>\n",
       "      <td>159-Formula Diesel</td>\n",
       "      <td>21327.0</td>\n",
       "      <td>Service Station</td>\n",
       "      <td>0.377464</td>\n",
       "      <td>0.000280</td>\n",
       "      <td>0.00000</td>\n",
       "      <td>0.000280</td>\n",
       "      <td>0.000280</td>\n",
       "      <td>2021-03-15 01:00:00</td>\n",
       "      <td>737864</td>\n",
       "    </tr>\n",
       "    <tr>\n",
       "      <th>2021-03-15 02:00:00</th>\n",
       "      <td>159</td>\n",
       "      <td>Formula Diesel</td>\n",
       "      <td>159-Formula Diesel</td>\n",
       "      <td>21327.0</td>\n",
       "      <td>Service Station</td>\n",
       "      <td>0.377184</td>\n",
       "      <td>0.000000</td>\n",
       "      <td>0.00028</td>\n",
       "      <td>-0.000280</td>\n",
       "      <td>0.000280</td>\n",
       "      <td>2021-03-15 02:00:00</td>\n",
       "      <td>737864</td>\n",
       "    </tr>\n",
       "    <tr>\n",
       "      <th>2021-03-15 03:00:00</th>\n",
       "      <td>159</td>\n",
       "      <td>Formula Diesel</td>\n",
       "      <td>159-Formula Diesel</td>\n",
       "      <td>21327.0</td>\n",
       "      <td>Service Station</td>\n",
       "      <td>0.377184</td>\n",
       "      <td>0.000000</td>\n",
       "      <td>0.00000</td>\n",
       "      <td>0.000000</td>\n",
       "      <td>0.000280</td>\n",
       "      <td>2021-03-15 03:00:00</td>\n",
       "      <td>737864</td>\n",
       "    </tr>\n",
       "    <tr>\n",
       "      <th>2021-03-15 04:00:00</th>\n",
       "      <td>159</td>\n",
       "      <td>Formula Diesel</td>\n",
       "      <td>159-Formula Diesel</td>\n",
       "      <td>21327.0</td>\n",
       "      <td>Service Station</td>\n",
       "      <td>0.377184</td>\n",
       "      <td>0.000000</td>\n",
       "      <td>0.00000</td>\n",
       "      <td>0.000000</td>\n",
       "      <td>0.000280</td>\n",
       "      <td>2021-03-15 04:00:00</td>\n",
       "      <td>737864</td>\n",
       "    </tr>\n",
       "    <tr>\n",
       "      <th>2021-03-15 05:00:00</th>\n",
       "      <td>159</td>\n",
       "      <td>Formula Diesel</td>\n",
       "      <td>159-Formula Diesel</td>\n",
       "      <td>21327.0</td>\n",
       "      <td>Service Station</td>\n",
       "      <td>0.377184</td>\n",
       "      <td>0.001238</td>\n",
       "      <td>0.00000</td>\n",
       "      <td>0.001238</td>\n",
       "      <td>0.001518</td>\n",
       "      <td>2021-03-15 05:00:00</td>\n",
       "      <td>737864</td>\n",
       "    </tr>\n",
       "  </tbody>\n",
       "</table>\n",
       "</div>"
      ],
      "text/plain": [
       "                    id_equipo nombre_producto     equipo_producto  capacidad  \\\n",
       "timestamp                                                                      \n",
       "2021-03-15 01:00:00       159  Formula Diesel  159-Formula Diesel    21327.0   \n",
       "2021-03-15 02:00:00       159  Formula Diesel  159-Formula Diesel    21327.0   \n",
       "2021-03-15 03:00:00       159  Formula Diesel  159-Formula Diesel    21327.0   \n",
       "2021-03-15 04:00:00       159  Formula Diesel  159-Formula Diesel    21327.0   \n",
       "2021-03-15 05:00:00       159  Formula Diesel  159-Formula Diesel    21327.0   \n",
       "\n",
       "                           industria  volumen_escl  consumo_escl  \\\n",
       "timestamp                                                          \n",
       "2021-03-15 01:00:00  Service Station      0.377464      0.000280   \n",
       "2021-03-15 02:00:00  Service Station      0.377184      0.000000   \n",
       "2021-03-15 03:00:00  Service Station      0.377184      0.000000   \n",
       "2021-03-15 04:00:00  Service Station      0.377184      0.000000   \n",
       "2021-03-15 05:00:00  Service Station      0.377184      0.001238   \n",
       "\n",
       "                     consumo_hour_before  diff_consumo  consumo_acumulado  \\\n",
       "timestamp                                                                   \n",
       "2021-03-15 01:00:00              0.00000      0.000280           0.000280   \n",
       "2021-03-15 02:00:00              0.00028     -0.000280           0.000280   \n",
       "2021-03-15 03:00:00              0.00000      0.000000           0.000280   \n",
       "2021-03-15 04:00:00              0.00000      0.000000           0.000280   \n",
       "2021-03-15 05:00:00              0.00000      0.001238           0.001518   \n",
       "\n",
       "                               datetime  ordinal_datetime  \n",
       "timestamp                                                  \n",
       "2021-03-15 01:00:00 2021-03-15 01:00:00            737864  \n",
       "2021-03-15 02:00:00 2021-03-15 02:00:00            737864  \n",
       "2021-03-15 03:00:00 2021-03-15 03:00:00            737864  \n",
       "2021-03-15 04:00:00 2021-03-15 04:00:00            737864  \n",
       "2021-03-15 05:00:00 2021-03-15 05:00:00            737864  "
      ]
     },
     "execution_count": 33,
     "metadata": {},
     "output_type": "execute_result"
    }
   ],
   "source": [
    "co_ss_FD.head()"
   ]
  },
  {
   "cell_type": "markdown",
   "metadata": {},
   "source": [
    "### Dividir el dataframe en train and test"
   ]
  },
  {
   "cell_type": "code",
   "execution_count": 15,
   "metadata": {},
   "outputs": [],
   "source": [
    "X_train= co_ss_FD.loc[: \"2021-03-27 23:00\", [\"consumo_hour_before\", \"diff_consumo\"]]"
   ]
  },
  {
   "cell_type": "code",
   "execution_count": 16,
   "metadata": {},
   "outputs": [],
   "source": [
    "y_train=co_ss_FD.loc[:\"2021-03-27 23:00\", \"consumo_escl\"]"
   ]
  },
  {
   "cell_type": "code",
   "execution_count": 17,
   "metadata": {},
   "outputs": [],
   "source": [
    "X_test= co_ss_FD.loc[\"2021-03-28 00:00\": , [\"consumo_hour_before\", \"diff_consumo\"]]"
   ]
  },
  {
   "cell_type": "code",
   "execution_count": 18,
   "metadata": {},
   "outputs": [],
   "source": [
    "y_test= co_ss_FD.loc[\"2021-03-28 00:00\":, \"consumo_escl\"]"
   ]
  },
  {
   "cell_type": "code",
   "execution_count": 11,
   "metadata": {},
   "outputs": [],
   "source": [
    "from sklearn.model_selection import TimeSeriesSplit, cross_val_score\n",
    "from sklearn.linear_model import LinearRegression, SGDRegressor\n",
    "from sklearn.svm import SVR\n",
    "from sklearn.neighbors import KNeighborsRegressor\n",
    "from sklearn.tree import DecisionTreeRegressor\n",
    "from sklearn.ensemble import RandomForestRegressor\n",
    "from sklearn.neural_network import MLPRegressor"
   ]
  },
  {
   "cell_type": "code",
   "execution_count": 20,
   "metadata": {},
   "outputs": [
    {
     "name": "stdout",
     "output_type": "stream",
     "text": [
      "LR: 1.000000 (0.000000)\n",
      "SGD: -0.440509 (0.745781)\n",
      "NN: 0.246001 (0.472674)\n",
      "KNN: 0.801043 (0.277942)\n",
      "DT: 0.736150 (0.237087)\n",
      "RF: 0.799452 (0.259744)\n",
      "SVR: -384.551178 (543.446089)\n"
     ]
    },
    {
     "data": {
      "image/png": "[encoded data removed]",
      "text/plain": [
       "<Figure size 432x288 with 1 Axes>"
      ]
     },
     "metadata": {
      "needs_background": "light"
     },
     "output_type": "display_data"
    }
   ],
   "source": [
    "# Spot Check Algorithms\n",
    "models = []\n",
    "models.append(('LR', LinearRegression()))\n",
    "models.append(('SGD', SGDRegressor()))\n",
    "models.append(('NN', MLPRegressor(solver = 'lbfgs')))  #neural network\n",
    "models.append(('KNN', KNeighborsRegressor())) \n",
    "models.append(('DT', DecisionTreeRegressor())) \n",
    "models.append(('RF', RandomForestRegressor(n_estimators = 10))) # Ensemble method - collection of many decision trees\n",
    "models.append(('SVR', SVR(gamma='auto'))) # kernel = linear\n",
    "# Evaluate each model in turn\n",
    "results = []\n",
    "names = []\n",
    "for name, model in models:\n",
    "    # TimeSeries Cross validation\n",
    " tscv = TimeSeriesSplit(n_splits=5)\n",
    "    \n",
    " cv_results = cross_val_score(model, X_train, y_train, cv=tscv, scoring='r2')\n",
    " results.append(cv_results)\n",
    " names.append(name)\n",
    " print('%s: %f (%f)' % (name, cv_results.mean(), cv_results.std()))\n",
    "    \n",
    "# Compare Algorithms\n",
    "plt.boxplot(results, labels=names)\n",
    "plt.title('Algorithm Comparison')\n",
    "plt.show()"
   ]
  },
  {
   "cell_type": "code",
   "execution_count": 21,
   "metadata": {},
   "outputs": [],
   "source": [
    "import sklearn.metrics as metrics\n",
    "def regression_results(y_test, y_pred_test):\n",
    "    # Regression metrics\n",
    "    explained_variance=metrics.explained_variance_score(y_test, y_pred_test)\n",
    "    mean_absolute_error=metrics.mean_absolute_error(y_test, y_pred_test) \n",
    "    mse=metrics.mean_squared_error(y_test, y_pred_test) \n",
    "    mean_squared_log_error=metrics.mean_squared_log_error(y_test, y_pred_test)\n",
    "    median_absolute_error=metrics.median_absolute_error(y_test, y_pred_test)\n",
    "    r2=metrics.r2_score(y_test, y_pred_test)\n",
    "    print('explained_variance: ', round(explained_variance,4))    \n",
    "    print('MAE: ', round(mean_absolute_error,4))\n",
    "    print('MSE: ', round(mse,4))\n",
    "    print('mean_squared_log_error: ', round(mean_squared_log_error,4))\n",
    "    print('RMSE: ', round(np.sqrt(mse),4))\n",
    "    print('r2: ', round(r2,4))"
   ]
  },
  {
   "cell_type": "code",
   "execution_count": 22,
   "metadata": {},
   "outputs": [],
   "source": [
    "from sklearn.model_selection import GridSearchCV\n",
    "RF = RandomForestRegressor()\n",
    "param_search = { \n",
    "    'n_estimators': [20, 50, 100],\n",
    "    'max_features': ['auto', 'sqrt', 'log2'],\n",
    "    'max_depth' : [i for i in range(5,15)]\n",
    "}\n",
    "tscv = TimeSeriesSplit(n_splits=5)\n",
    "gsearch = GridSearchCV(estimator=RF, cv=tscv, param_grid=param_search, scoring = \"r2\")\n",
    "gsearch.fit(X_train, y_train)\n",
    "best_score_RF = gsearch.best_score_\n",
    "best_model_RF = gsearch.best_estimator_"
   ]
  },
  {
   "cell_type": "code",
   "execution_count": 23,
   "metadata": {},
   "outputs": [],
   "source": [
    "y_pred_test=best_model_RF.predict(X_test)"
   ]
  },
  {
   "cell_type": "code",
   "execution_count": 24,
   "metadata": {},
   "outputs": [
    {
     "name": "stdout",
     "output_type": "stream",
     "text": [
      "explained_variance:  0.909\n",
      "MAE:  0.0007\n",
      "MSE:  0.0\n",
      "mean_squared_log_error:  0.0\n",
      "RMSE:  0.0032\n",
      "r2:  0.9088\n"
     ]
    }
   ],
   "source": [
    "regression_results(y_test, y_pred_test)"
   ]
  },
  {
   "cell_type": "code",
   "execution_count": 25,
   "metadata": {},
   "outputs": [
    {
     "data": {
      "image/png": "[encoded data removed]",
      "text/plain": [
       "<Figure size 432x288 with 1 Axes>"
      ]
     },
     "metadata": {
      "needs_background": "light"
     },
     "output_type": "display_data"
    }
   ],
   "source": [
    "imp = best_model_RF.feature_importances_\n",
    "features = X_train.columns\n",
    "indices = np.argsort(imp)\n",
    "plt.title('Feature Importances')\n",
    "plt.barh(range(len(indices)), imp[indices], color='b', align='center')\n",
    "plt.yticks(range(len(indices)), [features[i] for i in indices])\n",
    "plt.xlabel('Relative Importance')\n",
    "plt.show()"
   ]
  },
  {
   "cell_type": "code",
   "execution_count": 26,
   "metadata": {},
   "outputs": [
    {
     "data": {
      "image/png": "[encoded data removed]",
      "text/plain": [
       "<Figure size 432x288 with 1 Axes>"
      ]
     },
     "metadata": {},
     "output_type": "display_data"
    }
   ],
   "source": [
    "plt.plot(y_test.values, color='blue', linewidth=3)\n",
    "plt.plot(y_pred_test, color='red', linewidth=3)\n",
    "plt.xticks(())\n",
    "plt.yticks(())\n",
    "\n",
    "plt.show()"
   ]
  },
  {
   "cell_type": "code",
   "execution_count": 27,
   "metadata": {},
   "outputs": [],
   "source": [
    "reg=LinearRegression()\n",
    "tscv = TimeSeriesSplit(n_splits=5)\n",
    "cross_reg = cross_val_score(reg, X_train, y_train, cv=tscv, scoring='r2')"
   ]
  },
  {
   "cell_type": "code",
   "execution_count": 28,
   "metadata": {},
   "outputs": [
    {
     "data": {
      "text/plain": [
       "0.999999999999835"
      ]
     },
     "execution_count": 28,
     "metadata": {},
     "output_type": "execute_result"
    }
   ],
   "source": [
    "cross_reg.mean()"
   ]
  },
  {
   "cell_type": "code",
   "execution_count": 29,
   "metadata": {},
   "outputs": [
    {
     "data": {
      "text/plain": [
       "LinearRegression()"
      ]
     },
     "execution_count": 29,
     "metadata": {},
     "output_type": "execute_result"
    }
   ],
   "source": [
    "reg.fit(X_train, y_train)"
   ]
  },
  {
   "cell_type": "code",
   "execution_count": 30,
   "metadata": {},
   "outputs": [],
   "source": [
    "y_pred_test=reg.predict(X_test)"
   ]
  },
  {
   "cell_type": "code",
   "execution_count": 31,
   "metadata": {},
   "outputs": [
    {
     "name": "stdout",
     "output_type": "stream",
     "text": [
      "explained_variance:  1.0\n",
      "MAE:  0.0\n",
      "MSE:  0.0\n",
      "mean_squared_log_error:  0.0\n",
      "RMSE:  0.0\n",
      "r2:  1.0\n"
     ]
    }
   ],
   "source": [
    "regression_results(y_test, y_pred_test)"
   ]
  },
  {
   "cell_type": "code",
   "execution_count": 32,
   "metadata": {},
   "outputs": [
    {
     "data": {
      "image/png": "[encoded data removed]",
      "text/plain": [
       "<Figure size 432x288 with 1 Axes>"
      ]
     },
     "metadata": {},
     "output_type": "display_data"
    }
   ],
   "source": [
    "plt.plot(y_test.values, color='blue', linewidth=3)\n",
    "plt.plot(y_pred_test, color='red', linewidth=3)\n",
    "plt.xticks(())\n",
    "plt.yticks(())\n",
    "\n",
    "plt.show()"
   ]
  },
  {
   "cell_type": "code",
   "execution_count": 67,
   "metadata": {},
   "outputs": [],
   "source": [
    "X_train= co_ss_FD.loc[: \"2021-03-27 23:00\", [\"ordinal_datetime\"]]"
   ]
  },
  {
   "cell_type": "code",
   "execution_count": 72,
   "metadata": {},
   "outputs": [],
   "source": [
    "y_train=co_ss_FD.loc[:\"2021-03-27 23:00\", \"consumo_escl\"]"
   ]
  },
  {
   "cell_type": "code",
   "execution_count": 69,
   "metadata": {},
   "outputs": [],
   "source": [
    "X_test= co_ss_FD.loc[\"2021-03-28 00:00\": , [\"ordinal_escl\"]]"
   ]
  },
  {
   "cell_type": "code",
   "execution_count": 73,
   "metadata": {},
   "outputs": [],
   "source": [
    "y_test= co_ss_FD.loc[\"2021-03-28 00:00\":, \"consumo_escl\"]"
   ]
  },
  {
   "cell_type": "code",
   "execution_count": 76,
   "metadata": {},
   "outputs": [
    {
     "name": "stdout",
     "output_type": "stream",
     "text": [
      "LR: -0.389010 (0.593666)\n"
     ]
    },
    {
     "name": "stderr",
     "output_type": "stream",
     "text": [
      "C:\\Users\\Usuario\\anaconda3\\lib\\site-packages\\sklearn\\linear_model\\_stochastic_gradient.py:1208: ConvergenceWarning: Maximum number of iteration reached before convergence. Consider increasing max_iter to improve the fit.\n",
      "  warnings.warn(\"Maximum number of iteration reached before \"\n",
      "C:\\Users\\Usuario\\anaconda3\\lib\\site-packages\\sklearn\\linear_model\\_stochastic_gradient.py:1208: ConvergenceWarning: Maximum number of iteration reached before convergence. Consider increasing max_iter to improve the fit.\n",
      "  warnings.warn(\"Maximum number of iteration reached before \"\n",
      "C:\\Users\\Usuario\\anaconda3\\lib\\site-packages\\sklearn\\linear_model\\_stochastic_gradient.py:1208: ConvergenceWarning: Maximum number of iteration reached before convergence. Consider increasing max_iter to improve the fit.\n",
      "  warnings.warn(\"Maximum number of iteration reached before \"\n",
      "C:\\Users\\Usuario\\anaconda3\\lib\\site-packages\\sklearn\\linear_model\\_stochastic_gradient.py:1208: ConvergenceWarning: Maximum number of iteration reached before convergence. Consider increasing max_iter to improve the fit.\n",
      "  warnings.warn(\"Maximum number of iteration reached before \"\n",
      "C:\\Users\\Usuario\\anaconda3\\lib\\site-packages\\sklearn\\linear_model\\_stochastic_gradient.py:1208: ConvergenceWarning: Maximum number of iteration reached before convergence. Consider increasing max_iter to improve the fit.\n",
      "  warnings.warn(\"Maximum number of iteration reached before \"\n"
     ]
    },
    {
     "name": "stdout",
     "output_type": "stream",
     "text": [
      "SGD: -1169670123872862566546758267472078347131944960.000000 (1476094574059138693441441719586915877300207616.000000)\n",
      "NN: -0.404773 (0.672388)\n",
      "KNN: -0.339240 (0.264418)\n",
      "DT: -0.490827 (0.707110)\n",
      "RF: -0.524298 (0.788176)\n",
      "SVR: -384.551178 (543.446089)\n"
     ]
    },
    {
     "data": {
      "image/png": "[encoded data removed]",
      "text/plain": [
       "<Figure size 432x288 with 1 Axes>"
      ]
     },
     "metadata": {
      "needs_background": "light"
     },
     "output_type": "display_data"
    }
   ],
   "source": [
    "# Spot Check Algorithms\n",
    "models = []\n",
    "models.append(('LR', LinearRegression()))\n",
    "models.append(('SGD', SGDRegressor()))\n",
    "models.append(('NN', MLPRegressor(solver = 'lbfgs')))  #neural network\n",
    "models.append(('KNN', KNeighborsRegressor())) \n",
    "models.append(('DT', DecisionTreeRegressor())) \n",
    "models.append(('RF', RandomForestRegressor(n_estimators = 10))) # Ensemble method - collection of many decision trees\n",
    "models.append(('SVR', SVR(gamma='auto'))) # kernel = linear\n",
    "# Evaluate each model in turn\n",
    "results = []\n",
    "names = []\n",
    "for name, model in models:\n",
    "    # TimeSeries Cross validation\n",
    " tscv = TimeSeriesSplit(n_splits=5)\n",
    "    \n",
    " cv_results = cross_val_score(model, X_train, y_train, cv=tscv, scoring='r2')\n",
    " results.append(cv_results)\n",
    " names.append(name)\n",
    " print('%s: %f (%f)' % (name, cv_results.mean(), cv_results.std()))\n",
    "    \n",
    "# Compare Algorithms\n",
    "plt.boxplot(results, labels=names)\n",
    "plt.title('Algorithm Comparison')\n",
    "plt.show()"
   ]
  },
  {
   "cell_type": "code",
   "execution_count": 77,
   "metadata": {},
   "outputs": [],
   "source": [
    "from sklearn.model_selection import GridSearchCV\n",
    "RF = RandomForestRegressor()\n",
    "param_search = { \n",
    "    'n_estimators': [20, 50, 100],\n",
    "    'max_features': ['auto', 'sqrt', 'log2'],\n",
    "    'max_depth' : [i for i in range(5,15)]\n",
    "}\n",
    "tscv = TimeSeriesSplit(n_splits=5)\n",
    "gsearch = GridSearchCV(estimator=RF, cv=tscv, param_grid=param_search, scoring = \"r2\")\n",
    "gsearch.fit(X_train, y_train)\n",
    "best_score_RF = gsearch.best_score_\n",
    "best_model_RF = gsearch.best_estimator_"
   ]
  },
  {
   "cell_type": "code",
   "execution_count": 78,
   "metadata": {},
   "outputs": [],
   "source": [
    "y_pred_test=best_model_RF.predict(X_test)"
   ]
  },
  {
   "cell_type": "code",
   "execution_count": 79,
   "metadata": {},
   "outputs": [
    {
     "name": "stdout",
     "output_type": "stream",
     "text": [
      "explained_variance:  -0.0\n",
      "MAE:  0.0038\n",
      "MSE:  0.0001\n",
      "mean_squared_log_error:  0.0001\n",
      "RMSE:  0.0109\n",
      "r2:  -0.0401\n"
     ]
    }
   ],
   "source": [
    "regression_results(y_test, y_pred_test)"
   ]
  },
  {
   "cell_type": "code",
   "execution_count": 80,
   "metadata": {},
   "outputs": [
    {
     "data": {
      "image/png": "[encoded data removed]",
      "text/plain": [
       "<Figure size 432x288 with 1 Axes>"
      ]
     },
     "metadata": {
      "needs_background": "light"
     },
     "output_type": "display_data"
    }
   ],
   "source": [
    "imp = best_model_RF.feature_importances_\n",
    "features = X_train.columns\n",
    "indices = np.argsort(imp)\n",
    "plt.title('Feature Importances')\n",
    "plt.barh(range(len(indices)), imp[indices], color='b', align='center')\n",
    "plt.yticks(range(len(indices)), [features[i] for i in indices])\n",
    "plt.xlabel('Relative Importance')\n",
    "plt.show()"
   ]
  },
  {
   "cell_type": "code",
   "execution_count": 81,
   "metadata": {},
   "outputs": [
    {
     "data": {
      "image/png": "[encoded data removed]",
      "text/plain": [
       "<Figure size 432x288 with 1 Axes>"
      ]
     },
     "metadata": {},
     "output_type": "display_data"
    }
   ],
   "source": [
    "plt.plot(y_test.values, color='blue', linewidth=3)\n",
    "plt.plot(y_pred_test, color='red', linewidth=3)\n",
    "plt.xticks(())\n",
    "plt.yticks(())\n",
    "\n",
    "plt.show()"
   ]
  },
  {
   "cell_type": "code",
   "execution_count": null,
   "metadata": {},
   "outputs": [],
   "source": []
  }
 ],
 "metadata": {
  "kernelspec": {
   "display_name": "Python 3",
   "language": "python",
   "name": "python3"
  },
  "language_info": {
   "codemirror_mode": {
    "name": "ipython",
    "version": 3
   },
   "file_extension": ".py",
   "mimetype": "text/x-python",
   "name": "python",
   "nbconvert_exporter": "python",
   "pygments_lexer": "ipython3",
   "version": "3.8.5"
  }
 },
 "nbformat": 4,
 "nbformat_minor": 4
}
