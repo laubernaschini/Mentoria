{
 "cells": [
  {
   "cell_type": "markdown",
   "metadata": {
    "id": "_wGzY26hLRzh"
   },
   "source": [
    "<small>Diplomatura en Ciencia de Datos, Aprendizaje Automático y sus Aplicaciones, FaMAF UNC, 2021.</small>\n",
    "# Exploración y Curación de Datos \n",
    "\n",
    "Este trabajo pertenece a la mentoría **GAP: Gestión Automática de Pedidos de Combustibles Líquidos basada en telemetría de inventarios**.\n",
    "\n",
    "Integrantes:\n",
    "- Bernaschini, María Laura\n",
    "- Bosch, Daniela"
   ]
  },
  {
   "cell_type": "markdown",
   "metadata": {
    "id": "KPKWk95uVHF5"
   },
   "source": [
    "## Introducción\n",
    "\n",
    "En el trabajo anterior se hicieron algunos análisis de los datos teniendo en cuenta el dataset completo y las agrupaciones por tanque. En este trabajo, buscamos explorar un poco más los datos haciendo curación y análisis más complejos.\n",
    "\n",
    "El filtrado de datos erróneos se hará por tanque, mientras que el análisis y procesamiento se hará agrupando por centro operativo y producto."
   ]
  },
  {
   "cell_type": "code",
   "execution_count": 1,
   "metadata": {
    "colab": {
     "base_uri": "https://localhost:8080/"
    },
    "id": "hf4hd_V5KTZk",
    "outputId": "86c6c25f-452c-4b61-a548-69fc9b59900a"
   },
   "outputs": [
    {
     "ename": "ModuleNotFoundError",
     "evalue": "No module named 'pydrive'",
     "output_type": "error",
     "traceback": [
      "\u001b[1;31m---------------------------------------------------------------------------\u001b[0m",
      "\u001b[1;31mModuleNotFoundError\u001b[0m                       Traceback (most recent call last)",
      "\u001b[1;32m<ipython-input-1-13110f1889fb>\u001b[0m in \u001b[0;36m<module>\u001b[1;34m\u001b[0m\n\u001b[0;32m      6\u001b[0m \u001b[1;32mimport\u001b[0m \u001b[0mseaborn\u001b[0m\u001b[1;33m\u001b[0m\u001b[1;33m\u001b[0m\u001b[0m\n\u001b[0;32m      7\u001b[0m \u001b[1;32mfrom\u001b[0m \u001b[0mdatetime\u001b[0m \u001b[1;32mimport\u001b[0m \u001b[0mdatetime\u001b[0m\u001b[1;33m,\u001b[0m \u001b[0mtimedelta\u001b[0m\u001b[1;33m\u001b[0m\u001b[1;33m\u001b[0m\u001b[0m\n\u001b[1;32m----> 8\u001b[1;33m \u001b[1;32mfrom\u001b[0m \u001b[0mpydrive\u001b[0m\u001b[1;33m.\u001b[0m\u001b[0mauth\u001b[0m \u001b[1;32mimport\u001b[0m \u001b[0mGoogleAuth\u001b[0m\u001b[1;33m\u001b[0m\u001b[1;33m\u001b[0m\u001b[0m\n\u001b[0m\u001b[0;32m      9\u001b[0m \u001b[1;32mfrom\u001b[0m \u001b[0mpydrive\u001b[0m\u001b[1;33m.\u001b[0m\u001b[0mdrive\u001b[0m \u001b[1;32mimport\u001b[0m \u001b[0mGoogleDrive\u001b[0m\u001b[1;33m\u001b[0m\u001b[1;33m\u001b[0m\u001b[0m\n\u001b[0;32m     10\u001b[0m \u001b[1;32mfrom\u001b[0m \u001b[0mgoogle\u001b[0m\u001b[1;33m.\u001b[0m\u001b[0mcolab\u001b[0m \u001b[1;32mimport\u001b[0m \u001b[0mauth\u001b[0m\u001b[1;33m\u001b[0m\u001b[1;33m\u001b[0m\u001b[0m\n",
      "\u001b[1;31mModuleNotFoundError\u001b[0m: No module named 'pydrive'"
     ]
    }
   ],
   "source": [
    "import io\n",
    "import matplotlib\n",
    "import matplotlib.pyplot as plt\n",
    "import numpy\n",
    "import pandas as pd\n",
    "import seaborn\n",
    "from datetime import datetime, timedelta\n",
    "from pydrive.auth import GoogleAuth\n",
    "from pydrive.drive import GoogleDrive\n",
    "from google.colab import auth\n",
    "from oauth2client.client import GoogleCredentials\n",
    "from sklearn.impute import SimpleImputer\n",
    "from statsmodels.tsa.seasonal import seasonal_decompose\n",
    "\n",
    "seaborn.set_context('talk')\n",
    "# Set float format\n",
    "pd.set_option('display.float_format','{:.2f}'.format)\n",
    "\n",
    "# Set style\n",
    "seaborn.set_style(\"darkgrid\")\n",
    "seaborn.set_palette('pastel')\n",
    "seaborn.set_context(\"paper\", rc={\"font.size\":12,\"axes.titlesize\":12,\"axes.labelsize\":12}) "
   ]
  },
  {
   "cell_type": "markdown",
   "metadata": {
    "id": "USeBG7QKILNC"
   },
   "source": [
    "## Lectura del dataset\n",
    "\n",
    "Teniendo en cuenta el análisis que se hizo previamente procedemos a levantar el dataset con los tipos correctos y sólamente las columnas que vamos a utilizar."
   ]
  },
  {
   "cell_type": "code",
   "execution_count": null,
   "metadata": {
    "id": "nS19PXZQgb3u"
   },
   "outputs": [],
   "source": [
    "dtypes = {\n",
    "    \"id_equipo\": \"category\",\n",
    "    \"id_tanque\": \"category\",\n",
    "    \"nombre_producto\": \"category\",\n",
    "    \"industria\": \"category\",\n",
    "}\n",
    "parse_dates = [\"timestamp\"]\n",
    "usecols = [\n",
    "    'timestamp', 'id_equipo', 'id_tanque', 'nombre_producto', 'volumen',\n",
    "    'fuel_level_dmm', 'vbat2', 'capacidad', 'industria', 'codigo'\n",
    "]"
   ]
  },
  {
   "cell_type": "code",
   "execution_count": null,
   "metadata": {
    "id": "Pj8xG2ZNNgP5"
   },
   "outputs": [],
   "source": [
    "def connect_to_drive():\n",
    "    auth.authenticate_user()\n",
    "    gauth = GoogleAuth()\n",
    "    gauth.credentials = GoogleCredentials.get_application_default()\n",
    "    return GoogleDrive(gauth)\n",
    "\n",
    "def read_pkl_from_drive(drive, id, filename):\n",
    "    downloaded = drive.CreateFile({'id':id}) \n",
    "    downloaded.GetContentFile(filename)  \n",
    "    return pd.read_pickle(filename)\n",
    "\n",
    "def read_csv_from_drive(drive, id, filename, usecols, parse_dates, dtypes):\n",
    "    downloaded = drive.CreateFile({'id':id}) \n",
    "    downloaded.GetContentFile(filename)  \n",
    "    return pd.read_csv(\n",
    "        filename, \n",
    "        dtype=dtypes, \n",
    "        parse_dates=parse_dates,\n",
    "        usecols=usecols\n",
    "    )\n",
    "\n",
    "drive = connect_to_drive()"
   ]
  },
  {
   "cell_type": "code",
   "execution_count": null,
   "metadata": {
    "colab": {
     "base_uri": "https://localhost:8080/",
     "height": 206
    },
    "id": "1jYIAnZJW9Lu",
    "outputId": "4650bac6-d25b-4726-d97d-0e094f0eb125"
   },
   "outputs": [],
   "source": [
    "filename = '14KRbp2KPwMK-k_6pjD5FmbpVZ0AudBZR'\n",
    "raw_df = read_csv_from_drive(\n",
    "    drive, \n",
    "    filename, \n",
    "    'StorageInventory_2021_Q1.csv',\n",
    "    usecols,\n",
    "    parse_dates,\n",
    "    dtypes\n",
    ")\n",
    "raw_df['volumen'] = raw_df['volumen'].astype(numpy.float32)\n",
    "raw_df['capacidad'] = raw_df['capacidad'].astype(numpy.float32)\n",
    "raw_df.head()"
   ]
  },
  {
   "cell_type": "code",
   "execution_count": null,
   "metadata": {
    "id": "8ifyLHohXQFm"
   },
   "outputs": [],
   "source": [
    "# Mantenemos el original sin modificaciones\n",
    "df = raw_df.copy()"
   ]
  },
  {
   "cell_type": "markdown",
   "metadata": {
    "id": "J_HYdunyfM3u"
   },
   "source": [
    "## Preprocesamiento y análisis de los datos\n",
    "\n",
    "### Agrupación por tanques\n",
    "\n",
    "Como se vio en el trabajo anterior, fue necesario agrupar los historiales por sensor (por tanque) para realizar algunos filtrados y algunos análisis.\n",
    "\n",
    "Para filtrados referidos a errores en los sensores, se utilizará esta agrupación, para el resto de los análisis, se agruparán por centro operativo y producto."
   ]
  },
  {
   "cell_type": "code",
   "execution_count": null,
   "metadata": {
    "colab": {
     "base_uri": "https://localhost:8080/",
     "height": 455
    },
    "id": "TT3xSI4AfQ9a",
    "outputId": "938e96a5-d670-4a57-a168-559fdaa6b5ec"
   },
   "outputs": [],
   "source": [
    "# Ejemplo del uso de groupby\n",
    "df.groupby('id_tanque').first()"
   ]
  },
  {
   "cell_type": "code",
   "execution_count": null,
   "metadata": {
    "colab": {
     "base_uri": "https://localhost:8080/",
     "height": 206
    },
    "id": "igjPY9wqt8OU",
    "outputId": "bf6763f4-db8c-4c60-8287-14711910e0cb"
   },
   "outputs": [],
   "source": [
    "# Centro operativo + producto para facilitar las agrupaciones posteriores\n",
    "df[\"equipo-producto\"] = df[\"id_equipo\"].astype(str) + \"-\" + df[\"nombre_producto\"].astype(str)\n",
    "df[\"equipo-producto\"] = df[\"equipo-producto\"].astype(\"category\")\n",
    "df.head()"
   ]
  },
  {
   "cell_type": "markdown",
   "metadata": {
    "id": "tj0GnnorbW8j"
   },
   "source": [
    "En la gestión automática de pedidos es preferible no detectar la falta de combustible aunque el centro operativo esté en falta (error de tipo I) que predecir erróneamente la falta del mismo (error de tipo II), ya que la misma implicaría toda una logística con elevados costos. \n",
    "\n",
    "Se filtrarán registros o grupo de registros completos de productos y centros operativos según los criterios:\n",
    "- Eliminación únicamente de registros erróneos si estos no superan los 50 casos.\n",
    "- Eliminación de grupos producto-equipo completos si alguno de los tanques del grupo no reportó en un periodo mayor a 24hs **en las últimas dos semanas**. \n",
    "- Eliminación de grupos producto-equipo completos si alguno de los tanques del grupo presentan más de 50 casos de error. Si bien podría utilizarse el mismo criterio de únicamente ver las últimas dos semanas, consideramos que se trata de una **falla registrada por el equipo o la sonda**, por lo tanto, decidimos quitarlos si aparecen en algún momento de la serie de tiempo.\n",
    "\n",
    "**No se realizarán predicciones** sobre tales grupos debido a que contienen datos erróneos o faltantes en uno o varios tanques."
   ]
  },
  {
   "cell_type": "code",
   "execution_count": null,
   "metadata": {
    "id": "3s3Fzsg85LOH"
   },
   "outputs": [],
   "source": [
    "# Acumulamos los centros productos que eliminamos en este dataset\n",
    "removed = pd.DataFrame({}, columns=[\"equipo-producto\"])"
   ]
  },
  {
   "cell_type": "markdown",
   "metadata": {
    "id": "e7x07aIE1mEu"
   },
   "source": [
    "### Equipos y productos dónde existen volúmenes de tanque menores a 0"
   ]
  },
  {
   "cell_type": "code",
   "execution_count": null,
   "metadata": {
    "colab": {
     "base_uri": "https://localhost:8080/",
     "height": 81
    },
    "id": "ph0HI0qELX6y",
    "outputId": "b2ff9eb9-0b77-49ed-ca34-dea7992ecc99"
   },
   "outputs": [],
   "source": [
    "df[df.volumen < 0]"
   ]
  },
  {
   "cell_type": "markdown",
   "metadata": {
    "id": "wSZ7feGyqW6c"
   },
   "source": [
    "En este caso hay un sólo dato erróneo en el equipo `685`, por lo que sólo quitaremos el caso."
   ]
  },
  {
   "cell_type": "markdown",
   "metadata": {
    "id": "4wFfpmESnLxk"
   },
   "source": [
    "### Equipos con capacidad nan, negativo o cero"
   ]
  },
  {
   "cell_type": "code",
   "execution_count": null,
   "metadata": {
    "colab": {
     "base_uri": "https://localhost:8080/",
     "height": 49
    },
    "id": "jBmtifKxnQse",
    "outputId": "5d73fde9-59cb-472c-d196-26c5be873cc8"
   },
   "outputs": [],
   "source": [
    "cap_cero = df[df.capacidad <= 0]\n",
    "cap_cero"
   ]
  },
  {
   "cell_type": "code",
   "execution_count": null,
   "metadata": {
    "colab": {
     "base_uri": "https://localhost:8080/",
     "height": 534
    },
    "id": "o9q8oMqInVMo",
    "outputId": "ccc4030a-d369-43c5-f7a3-fc739eefd586"
   },
   "outputs": [],
   "source": [
    "cap_nan = df[df.capacidad.isna()]\n",
    "cap_nan[\"equipo-producto\"] = cap_nan[\"equipo-producto\"].cat.remove_unused_categories()\n",
    "cap_nan"
   ]
  },
  {
   "cell_type": "code",
   "execution_count": null,
   "metadata": {
    "id": "_m5aPlfUn8la"
   },
   "outputs": [],
   "source": [
    "r = pd.DataFrame()\n",
    "r[\"equipo-producto\"] = cap_nan[\"equipo-producto\"].unique()\n",
    "r[\"capacidad_nan\"] = True\n",
    "\n",
    "removed = pd.merge(removed, r, on=\"equipo-producto\", how='outer')"
   ]
  },
  {
   "cell_type": "markdown",
   "metadata": {
    "id": "hWyQbOGS17Z4"
   },
   "source": [
    "### Equipos y productos dónde existen volúmenes que exceden la capacidad del tanque"
   ]
  },
  {
   "cell_type": "code",
   "execution_count": null,
   "metadata": {
    "colab": {
     "base_uri": "https://localhost:8080/",
     "height": 551
    },
    "id": "8GIErcDrNPqW",
    "outputId": "fb19bbaa-f900-4d65-abed-f6255f1d225f"
   },
   "outputs": [],
   "source": [
    "# TODO: ver por tanque, debería ser algo tipo df.groupby(\"id_tanque\")[\"volumen\"].max()\n",
    "df[df[\"volumen\"] > df[\"capacidad\"].max()]"
   ]
  },
  {
   "cell_type": "markdown",
   "metadata": {
    "id": "PD7aWHxkqTG9"
   },
   "source": [
    "Los equipos que se obtuvieron fueron el `848` y el `859`. Al igual que en el caso anterior, debido a que la catidad de datos erróneos es escaso por equipo, sólo sacaremos los casos."
   ]
  },
  {
   "cell_type": "markdown",
   "metadata": {
    "id": "zlzRx2Vc2NoU"
   },
   "source": [
    "### Equipos y productos dónde la batería de los sensores es 0"
   ]
  },
  {
   "cell_type": "code",
   "execution_count": null,
   "metadata": {
    "colab": {
     "base_uri": "https://localhost:8080/",
     "height": 534
    },
    "id": "phYzjklnOKNO",
    "outputId": "587b6a83-6293-4db8-b2b8-6816f45e5ce6"
   },
   "outputs": [],
   "source": [
    "df_bat = df[df[\"vbat2\"] == 0]\n",
    "df_bat[\"equipo-producto\"] = df_bat[\"equipo-producto\"].cat.remove_unused_categories()\n",
    "df_bat"
   ]
  },
  {
   "cell_type": "markdown",
   "metadata": {
    "id": "EZteALyOTum3"
   },
   "source": [
    "Observamos algunos casos."
   ]
  },
  {
   "cell_type": "code",
   "execution_count": null,
   "metadata": {
    "colab": {
     "base_uri": "https://localhost:8080/",
     "height": 269
    },
    "id": "KSifWMtQr8je",
    "outputId": "c2670a87-ebe5-4a69-8159-39f1eb8a0185"
   },
   "outputs": [],
   "source": [
    "bat = pd.DataFrame(df_bat[\"equipo-producto\"].value_counts())\n",
    "bat"
   ]
  },
  {
   "cell_type": "markdown",
   "metadata": {
    "id": "hKSpU8G3vqQ8"
   },
   "source": [
    "Quiraremos los grupos: \n",
    "- `111` productos \"BIO\" y \"Producto 0\", \n",
    "- `106` \"Producto 2\", \n",
    "- `69` y \n",
    "- `848` producto \"Diesel\". \n",
    "\n",
    "En el caso de los equipos `353` y `946` sólo eliminaremos los casos ya que son pocos."
   ]
  },
  {
   "cell_type": "code",
   "execution_count": null,
   "metadata": {
    "id": "NJX8MrSN6yP9"
   },
   "outputs": [],
   "source": [
    "r = pd.DataFrame()\n",
    "r[\"equipo-producto\"] = bat.index[:5].unique()\n",
    "r[\"pilas_cero\"] = True\n",
    "\n",
    "removed = pd.merge(removed, r, on=\"equipo-producto\", how='outer')"
   ]
  },
  {
   "cell_type": "markdown",
   "metadata": {
    "id": "ms534iGP3fsN"
   },
   "source": [
    "### Equipos y productos donde el volumen de combustible es 0 y el nivel mayor a 0"
   ]
  },
  {
   "cell_type": "code",
   "execution_count": null,
   "metadata": {
    "colab": {
     "base_uri": "https://localhost:8080/",
     "height": 534
    },
    "id": "L_1WvowEOWni",
    "outputId": "8e68636d-dffd-484d-f50c-466971cc1c28"
   },
   "outputs": [],
   "source": [
    "df_fuel = df[(df.volumen == 0) & (df.fuel_level_dmm > 0)]\n",
    "df_fuel[\"equipo-producto\"] = df_fuel[\"equipo-producto\"].cat.remove_unused_categories()\n",
    "df_fuel"
   ]
  },
  {
   "cell_type": "markdown",
   "metadata": {
    "id": "9HBbRM31VIkM"
   },
   "source": [
    "Observamos algunos casos."
   ]
  },
  {
   "cell_type": "code",
   "execution_count": null,
   "metadata": {
    "colab": {
     "base_uri": "https://localhost:8080/",
     "height": 300
    },
    "id": "Z76FtGlxwsFM",
    "outputId": "b6b99c94-5675-476c-8ad0-61a04227f4d1"
   },
   "outputs": [],
   "source": [
    "fuel = pd.DataFrame(df_fuel[\"equipo-producto\"].value_counts())\n",
    "fuel"
   ]
  },
  {
   "cell_type": "markdown",
   "metadata": {
    "id": "oH1X2UAi0NME"
   },
   "source": [
    "En esta oportunidad, quitaremos los equipos `685`, `534`, `843`, `356` y `763`, y en el caso de los equipos `848`, `577` y `905` eliminaremos los casos ya que son pocos."
   ]
  },
  {
   "cell_type": "code",
   "execution_count": null,
   "metadata": {
    "id": "UXtaJaFJ94bJ"
   },
   "outputs": [],
   "source": [
    "r = pd.DataFrame()\n",
    "r[\"equipo-producto\"] = fuel.index[:5].unique()\n",
    "r[\"volumen_cero_fuel_nocero\"] = True\n",
    "\n",
    "removed = pd.merge(removed, r, on=\"equipo-producto\", how='outer')"
   ]
  },
  {
   "cell_type": "markdown",
   "metadata": {
    "id": "mf5PnK8w4AG4"
   },
   "source": [
    "### Equipos y productos donde el eco de las sondas es 0"
   ]
  },
  {
   "cell_type": "code",
   "execution_count": null,
   "metadata": {
    "id": "X56hiyScO8jY"
   },
   "outputs": [],
   "source": [
    "# Separamos el código en dos datos\n",
    "df['c'] = df['codigo'].apply(lambda x: str(x)[0])\n",
    "df['echoes'] = pd.to_numeric(df['codigo'].apply(lambda x: str(x)[1]), errors='coerce')"
   ]
  },
  {
   "cell_type": "code",
   "execution_count": null,
   "metadata": {
    "colab": {
     "base_uri": "https://localhost:8080/",
     "height": 473
    },
    "id": "u_QDKqj9PGQ7",
    "outputId": "a976df90-74c8-4f22-a0a2-58fbbecce2a0"
   },
   "outputs": [],
   "source": [
    "df_echoes = df[df[\"echoes\"] == 0]\n",
    "df_echoes[\"equipo-producto\"] = df_echoes[\"equipo-producto\"].cat.remove_unused_categories()\n",
    "df_echoes[:10]"
   ]
  },
  {
   "cell_type": "code",
   "execution_count": null,
   "metadata": {
    "colab": {
     "base_uri": "https://localhost:8080/",
     "height": 677
    },
    "id": "iai1y6Jd4cYo",
    "outputId": "3d0817dd-e7b1-436f-b7c9-28dfe11fef08"
   },
   "outputs": [],
   "source": [
    "pd.DataFrame(df_echoes[\"equipo-producto\"].value_counts())[:20]"
   ]
  },
  {
   "cell_type": "markdown",
   "metadata": {
    "id": "lDjn8-_VDUgc"
   },
   "source": [
    "Graficamos algunos ejemplos."
   ]
  },
  {
   "cell_type": "code",
   "execution_count": null,
   "metadata": {
    "colab": {
     "base_uri": "https://localhost:8080/",
     "height": 556
    },
    "id": "zLUtS27hCPUN",
    "outputId": "f4fdd25f-3667-4070-b583-8114b0b9c765"
   },
   "outputs": [],
   "source": [
    "fig, axes = plt.subplots(2, 1, sharex=True, sharey=False, figsize=(20, 7))\n",
    "ej1 = df.query(\"`equipo-producto` == '646-Gas Oil'\")\n",
    "ej2 = df.query(\"`equipo-producto` == '175-Product 1'\")\n",
    "ej1.loc[:,'id_tanque'] = ej1['id_tanque'].cat.remove_unused_categories()\n",
    "ej2.loc[:,'id_tanque'] = ej2['id_tanque'].cat.remove_unused_categories()\n",
    "\n",
    "seaborn.lineplot(\n",
    "    data=ej1, \n",
    "    y='volumen', \n",
    "    x='timestamp', \n",
    "    hue='id_tanque',\n",
    "    ax=axes[0]\n",
    ").axes.set(ylim=(0, None))\n",
    "seaborn.lineplot(\n",
    "    data=ej2, \n",
    "    y='volumen', \n",
    "    x='timestamp', \n",
    "    hue='id_tanque',\n",
    "    ax=axes[1]\n",
    ").axes.set(ylim=(0, None))\n",
    "seaborn.despine()"
   ]
  },
  {
   "cell_type": "markdown",
   "metadata": {
    "id": "P-91o9MFZGsq"
   },
   "source": [
    "Para este caso, definimos un criterio de eliminación ya que son muchos los equipos con ecos 0. Como se muestra más adelante, se quitaron aquellos equipos que presentaban más de 50 ecos 0.  "
   ]
  },
  {
   "cell_type": "code",
   "execution_count": null,
   "metadata": {
    "colab": {
     "base_uri": "https://localhost:8080/",
     "height": 1000
    },
    "id": "G1F1DuVq-8Aw",
    "outputId": "91b1f201-d1af-463d-9ef6-a22dfd8bd33c"
   },
   "outputs": [],
   "source": [
    "ecos = pd.DataFrame(df[df[\"echoes\"] == 0][\"equipo-producto\"])\n",
    "ecos.loc[:,\"equipo-producto\"] = ecos[\"equipo-producto\"].cat.remove_unused_categories()\n",
    "ecos = ecos.groupby(\"equipo-producto\").first()[ecos[\"equipo-producto\"].value_counts() > 50]\n",
    "ecos"
   ]
  },
  {
   "cell_type": "code",
   "execution_count": null,
   "metadata": {
    "id": "q15-BkGM_HW8"
   },
   "outputs": [],
   "source": [
    "r = pd.DataFrame()\n",
    "r[\"equipo-producto\"] = ecos.index\n",
    "r[\"ecos_cero\"] = True\n",
    "\n",
    "removed = pd.merge(removed, r, on=\"equipo-producto\", how='outer')"
   ]
  },
  {
   "cell_type": "markdown",
   "metadata": {
    "id": "ElvtkidB5zuw"
   },
   "source": [
    "### Equipos y productos donde el eco de las sondas es mayor a 2"
   ]
  },
  {
   "cell_type": "code",
   "execution_count": null,
   "metadata": {
    "colab": {
     "base_uri": "https://localhost:8080/",
     "height": 424
    },
    "id": "G-E9cIiyP4tZ",
    "outputId": "2dd50b97-7933-49dd-d608-3683436cd3fd"
   },
   "outputs": [],
   "source": [
    "df[df[\"echoes\"] > 2]"
   ]
  },
  {
   "cell_type": "markdown",
   "metadata": {
    "id": "JN0DO3w02Lu_"
   },
   "source": [
    "### Equipos con códigos de error"
   ]
  },
  {
   "cell_type": "code",
   "execution_count": null,
   "metadata": {
    "colab": {
     "base_uri": "https://localhost:8080/",
     "height": 424
    },
    "id": "9EClUYyX2PIB",
    "outputId": "d17603fe-3a6a-4689-a9f1-bf63736ff593"
   },
   "outputs": [],
   "source": [
    "error_codes = ['m', 'M', 'F']\n",
    "df.query(\"c in @error_codes\")"
   ]
  },
  {
   "cell_type": "markdown",
   "metadata": {
    "id": "X9n5N6Kz2kXs"
   },
   "source": [
    "Para este caso, definimos un criterio de eliminación ya que son muchos los equipos con códigos de error. Como se muestra más adelante, se quitaron aquellos equipos que presentaban más de 50 registros con códigos de error.  "
   ]
  },
  {
   "cell_type": "code",
   "execution_count": null,
   "metadata": {
    "colab": {
     "base_uri": "https://localhost:8080/",
     "height": 475
    },
    "id": "jOPHHGG42YzS",
    "outputId": "06dcdf2a-e56f-4917-ad2c-b257390fb994"
   },
   "outputs": [],
   "source": [
    "# Equipos con un conteo de valores de código de error mayor a 50\n",
    "error = pd.DataFrame(df[df[\"c\"].isin(error_codes)][\"equipo-producto\"])\n",
    "error.loc[:,\"equipo-producto\"] = error[\"equipo-producto\"].cat.remove_unused_categories()\n",
    "error = error.groupby(\"equipo-producto\").first()[error[\"equipo-producto\"].value_counts() > 50]\n",
    "error"
   ]
  },
  {
   "cell_type": "code",
   "execution_count": null,
   "metadata": {
    "id": "zdsVTZ2h-W-y"
   },
   "outputs": [],
   "source": [
    "r = pd.DataFrame()\n",
    "r[\"equipo-producto\"] = error.index\n",
    "r[\"codigo_error\"] = True\n",
    "\n",
    "removed = pd.merge(removed, r, on=\"equipo-producto\", how='outer')"
   ]
  },
  {
   "cell_type": "markdown",
   "metadata": {
    "id": "ASfDOVWY94A2"
   },
   "source": [
    "## Filtrado de casos y equipos\n",
    "\n",
    "Filtramos todos los casos y los grupos mencionados anteriormente."
   ]
  },
  {
   "cell_type": "code",
   "execution_count": null,
   "metadata": {
    "colab": {
     "base_uri": "https://localhost:8080/"
    },
    "id": "-rhyUGBz4Cfv",
    "outputId": "117d8385-952d-4087-b7d8-f9a0da0e1b54"
   },
   "outputs": [],
   "source": [
    "len(df)"
   ]
  },
  {
   "cell_type": "code",
   "execution_count": null,
   "metadata": {
    "id": "qZhJKI8U8otM"
   },
   "outputs": [],
   "source": [
    "# Casos\n",
    "df = df[~(df.volumen < 0)]\n",
    "df = df[~(df.volumen > df.capacidad.max())]\n",
    "df = df[~(df.echoes > 2)]\n",
    "df = df[~(df.echoes == 0)]\n",
    "df = df[~(df[\"c\"].isin(error_codes))]\n",
    "\n",
    "# Grupos centro producto\n",
    "df = df[~(df[\"equipo-producto\"].isin(removed[\"equipo-producto\"]))]"
   ]
  },
  {
   "cell_type": "code",
   "execution_count": null,
   "metadata": {
    "colab": {
     "base_uri": "https://localhost:8080/"
    },
    "id": "THe9WXZc52Kx",
    "outputId": "4d45fe13-577b-4640-b478-92c4a76ec971"
   },
   "outputs": [],
   "source": [
    "len(df)"
   ]
  },
  {
   "cell_type": "markdown",
   "metadata": {
    "id": "uuYSG5rl4mbV"
   },
   "source": [
    "Probamos si el filtrado por equipo en relación a los ecos se realizó correctamente"
   ]
  },
  {
   "cell_type": "code",
   "execution_count": null,
   "metadata": {
    "colab": {
     "base_uri": "https://localhost:8080/",
     "height": 49
    },
    "id": "ziAO06rl5yf2",
    "outputId": "6effc7f9-1a34-48b4-93a3-8a947e89c64b"
   },
   "outputs": [],
   "source": [
    "df[df.id_equipo==\"646\"]"
   ]
  },
  {
   "cell_type": "code",
   "execution_count": null,
   "metadata": {
    "colab": {
     "base_uri": "https://localhost:8080/",
     "height": 49
    },
    "id": "quUfcRug58N3",
    "outputId": "6c109210-485e-4347-8bdc-db617df8a785"
   },
   "outputs": [],
   "source": [
    "df[df.id_equipo==\"619\"]"
   ]
  },
  {
   "cell_type": "markdown",
   "metadata": {
    "id": "By8Ng4jDhIQT"
   },
   "source": [
    "## Filtrado de centros por los gaps\n",
    "Debido a la eliminación de datos erróneos, se generaron espacios de tiempo sin datos en algunos tanques. Otro motivo por el cual puedan existir estos gaps, es debido a que la sonda o la consola no reportan a la nube, por problemas de conectividad, entre otros.\n",
    "\n",
    "\n",
    "Se filtrarán centros operativos en donde al menos uno de los tanques del grupo tiene un espacio de tiempo sin datos de al menos 24hs."
   ]
  },
  {
   "cell_type": "code",
   "execution_count": null,
   "metadata": {
    "id": "Pij6n-fiViys"
   },
   "outputs": [],
   "source": [
    "df['delta_timestamp'] = df.groupby('id_tanque')['timestamp'].diff()"
   ]
  },
  {
   "cell_type": "code",
   "execution_count": null,
   "metadata": {
    "colab": {
     "base_uri": "https://localhost:8080/"
    },
    "id": "iqaHp7Y6hoWt",
    "outputId": "30e0be38-5649-48b0-d060-d21388ed273e"
   },
   "outputs": [],
   "source": [
    "df.timestamp.max()"
   ]
  },
  {
   "cell_type": "code",
   "execution_count": null,
   "metadata": {
    "colab": {
     "base_uri": "https://localhost:8080/",
     "height": 739
    },
    "id": "11CHb0xCWwIn",
    "outputId": "9c0bbc62-b884-46b7-dd39-4663d41290c3"
   },
   "outputs": [],
   "source": [
    "cond3 = (df['delta_timestamp'] > '1 days')\n",
    "cond4 = (df['timestamp'] > datetime(2021, 3, 15, 23, 59, 58))\n",
    "cond5 = (df['timestamp'] < datetime(2021, 3, 31, 23, 59, 58))\n",
    "\n",
    "gaps = pd.DataFrame(df[cond3 & cond4 & cond5][\"equipo-producto\"].unique())\n",
    "gaps"
   ]
  },
  {
   "cell_type": "markdown",
   "metadata": {
    "id": "7JythQmPUK9l"
   },
   "source": [
    "Graficamos un ejemplo"
   ]
  },
  {
   "cell_type": "code",
   "execution_count": null,
   "metadata": {
    "colab": {
     "base_uri": "https://localhost:8080/",
     "height": 556
    },
    "id": "ejRXeIyGUG_y",
    "outputId": "db4a0187-143c-433d-c7cc-11cce3ebebf3"
   },
   "outputs": [],
   "source": [
    "fig, axes = plt.subplots(2, 1, sharex=True, sharey=False, figsize=(20, 7))\n",
    "ej1 = df.query(\"`equipo-producto` == '895-Producto 0'\")\n",
    "ej2 = df.query(\"`equipo-producto` == '653-GAS OIL'\")\n",
    "ej1.loc[:,'id_tanque'] = ej1['id_tanque'].cat.remove_unused_categories()\n",
    "ej2.loc[:,'id_tanque'] = ej2['id_tanque'].cat.remove_unused_categories()\n",
    "\n",
    "seaborn.scatterplot(\n",
    "    data=ej1, \n",
    "    y='volumen', \n",
    "    x='timestamp', \n",
    "    hue='id_tanque',\n",
    "    ax=axes[0]\n",
    ").axes.set(ylim=(0, None))\n",
    "seaborn.lineplot(\n",
    "    data=ej2, \n",
    "    y='volumen', \n",
    "    x='timestamp', \n",
    "    hue='id_tanque',\n",
    "    ax=axes[1]\n",
    ").axes.set(ylim=(0, None))\n",
    "seaborn.despine()"
   ]
  },
  {
   "cell_type": "code",
   "execution_count": null,
   "metadata": {
    "id": "tNQ1DYCeTO2G"
   },
   "outputs": [],
   "source": [
    "r = pd.DataFrame()\n",
    "r[\"equipo-producto\"] = gaps[0]\n",
    "r[\"gaps\"] = True\n",
    "\n",
    "removed = pd.merge(removed, r, on=\"equipo-producto\", how='outer')"
   ]
  },
  {
   "cell_type": "code",
   "execution_count": null,
   "metadata": {
    "id": "eWw0LTVR3Zyq"
   },
   "outputs": [],
   "source": [
    "df = df[~(df[\"equipo-producto\"].isin(removed[\"equipo-producto\"]))]"
   ]
  },
  {
   "cell_type": "markdown",
   "metadata": {
    "id": "o-XW68zhVCJ-"
   },
   "source": [
    "Finalmente, los centros operativos - productos eliminados fueron:"
   ]
  },
  {
   "cell_type": "code",
   "execution_count": null,
   "metadata": {
    "colab": {
     "base_uri": "https://localhost:8080/",
     "height": 424
    },
    "id": "5nNtA8asBSYO",
    "outputId": "106127f9-16f2-48e1-cf13-99855480efce"
   },
   "outputs": [],
   "source": [
    "removed = removed.fillna(False)\n",
    "removed"
   ]
  },
  {
   "cell_type": "markdown",
   "metadata": {
    "id": "zU-6vfRMgeDj"
   },
   "source": [
    "## Uniformidad de la serie temporal\n",
    "\n",
    "Para poder hacer las agregaciones necesarias, necesitamos realizar un resampleo de los datos por una unidad de tiempo uniforme, de lo contrario, los datos no pueden ser comparables y agregables entre tanques.\n",
    "\n",
    "Vemos además que antes de realizar el sampleo, será necesario filtrar los registros duplicados. Esto se debe al reporte de dos mediciones en el mismo timestamp con dos códigos distintos. Para esta etapa no los necesitamos y los erróneos fueron eliminados previamente, por lo tanto, podemos quitar uno de ellos."
   ]
  },
  {
   "cell_type": "code",
   "execution_count": null,
   "metadata": {
    "colab": {
     "base_uri": "https://localhost:8080/",
     "height": 206
    },
    "id": "vGl1mBkoZ5E7",
    "outputId": "09bbae21-cdf9-4bc2-e155-6df4a196728d"
   },
   "outputs": [],
   "source": [
    "# Ejemplo de un tanque que reportó duplicado\n",
    "df.query(\"id_tanque == '1010'\").tail()"
   ]
  },
  {
   "cell_type": "code",
   "execution_count": null,
   "metadata": {
    "colab": {
     "base_uri": "https://localhost:8080/",
     "height": 238
    },
    "id": "_sM1d1MdhFoD",
    "outputId": "1793a84f-93cd-4b45-e704-8ebf27ffc824"
   },
   "outputs": [],
   "source": [
    "resampled_df = df.groupby('id_tanque', as_index=False)\\\n",
    "    .apply(\n",
    "        lambda x : x.drop_duplicates('timestamp')\\\n",
    "                .set_index('timestamp')\\\n",
    "                .resample('5min')\\\n",
    "                .bfill())\\\n",
    "    .reset_index()\\\n",
    "    .set_index('timestamp')\\\n",
    "    .drop(columns=['level_0'])\n",
    "resampled_df.head()"
   ]
  },
  {
   "cell_type": "markdown",
   "metadata": {
    "id": "NBZLT5h3k3vQ"
   },
   "source": [
    "Graficamos un ejemplo"
   ]
  },
  {
   "cell_type": "code",
   "execution_count": null,
   "metadata": {
    "id": "I1Ahjj4vk9rH"
   },
   "outputs": [],
   "source": [
    "co_900 = resampled_df[resampled_df.id_equipo == \"900\"]\n",
    "# Debemos remover las categorías no utilizadas\n",
    "co_900.loc[:,'id_tanque'] = co_900['id_tanque']\\\n",
    "    .cat.remove_unused_categories()\n",
    "co_900.loc[:,'nombre_producto'] = co_900['nombre_producto']\\\n",
    "    .cat.remove_unused_categories()"
   ]
  },
  {
   "cell_type": "code",
   "execution_count": null,
   "metadata": {
    "colab": {
     "base_uri": "https://localhost:8080/",
     "height": 612
    },
    "id": "pb1XwKggk3DN",
    "outputId": "42c98d80-3e9e-434c-cddc-de44a41c74e3"
   },
   "outputs": [],
   "source": [
    "n = co_900['id_tanque'].nunique()\n",
    "fig, axes = plt.subplots(n, 1, sharex=True, sharey=True, figsize=(20, 10))\n",
    "\n",
    "for i, tanque in enumerate(co_900['id_tanque'].unique()):\n",
    "    seaborn.lineplot(\n",
    "        data=co_900.query(\"id_tanque == @tanque\"), \n",
    "        y='volumen', \n",
    "        x='timestamp',\n",
    "        hue='nombre_producto', \n",
    "        ax=axes[i]\n",
    "    )\n",
    "seaborn.despine()"
   ]
  },
  {
   "cell_type": "markdown",
   "metadata": {
    "id": "1pn-udbme_J8"
   },
   "source": [
    "## Consumos por producto y centros operativos\n",
    "\n",
    "Para poder calcular los consumos, debemos sumar todas las diferencias negativas (primera derivada) por centro operativo y producto. \n",
    "\n",
    "A veces puede haber ruido en el volumen histórico de los tanques que pueden confundirse con movimientos de combustible, por lo tanto, no sería correcto utilizar las diferencias entre volúmenes en el tiempo sin ningún tratamiento previo. Necesitamos suavizar los registros para obtener las diferencias reales. Para obtener el cálculo de consumos más preciso se utilizan las **direfencias entre las medias móviles**. "
   ]
  },
  {
   "cell_type": "code",
   "execution_count": null,
   "metadata": {
    "id": "gqC2xZ78eNip"
   },
   "outputs": [],
   "source": [
    "resampled_df['moving_avg'] = resampled_df.groupby('id_tanque')['volumen'].transform(\n",
    "    lambda x: x.rolling(window=4).mean()\n",
    ")"
   ]
  },
  {
   "cell_type": "code",
   "execution_count": null,
   "metadata": {
    "id": "Mqg9flaseNiq"
   },
   "outputs": [],
   "source": [
    "resampled_df['volumen_diff'] = resampled_df.groupby('id_tanque')['moving_avg'].diff()"
   ]
  },
  {
   "cell_type": "code",
   "execution_count": null,
   "metadata": {
    "id": "pPT1G6hAeNiq"
   },
   "outputs": [],
   "source": [
    "resampled_df['consumo'] = numpy.where(\n",
    "    resampled_df['volumen_diff'] < 0, \n",
    "    resampled_df['volumen_diff'].abs(), \n",
    "    0\n",
    ")"
   ]
  },
  {
   "cell_type": "code",
   "execution_count": null,
   "metadata": {
    "colab": {
     "base_uri": "https://localhost:8080/",
     "height": 342
    },
    "id": "sBx4b8fwepUY",
    "outputId": "18611a3a-81d4-4424-f174-30deb40f84bd"
   },
   "outputs": [],
   "source": [
    "resampled_df.tail()"
   ]
  },
  {
   "cell_type": "markdown",
   "metadata": {
    "id": "ulZiSgY6ij9x"
   },
   "source": [
    "### Agrupación por centro operativo y producto\n",
    "\n",
    "El objetivo del proyecto es predecir cuándo un centro operativo va a quedarse sin combustible, por lo tanto la predicción por tanque no sería correcta ya que no se justificaría generar toda una logística de pedido del producto por un solo tanque.\n",
    "\n",
    "Una vez filtrados los datos, necesitamos sumar las capacidades y los volúmenes de los tanques por centro operativo y por producto.\n",
    "\n"
   ]
  },
  {
   "cell_type": "code",
   "execution_count": null,
   "metadata": {
    "colab": {
     "base_uri": "https://localhost:8080/",
     "height": 238
    },
    "id": "jVs2Z37Bizk6",
    "outputId": "d867dcef-a3d9-4ffd-ca21-81aa3c327832"
   },
   "outputs": [],
   "source": [
    "grouped_prod_equipo = resampled_df\\\n",
    "    .groupby(['id_equipo', 'nombre_producto', 'timestamp'], observed=True)\\\n",
    "    .agg({\n",
    "        'capacidad':'sum', \n",
    "        'volumen':'sum', \n",
    "        \"consumo\": \"sum\",\n",
    "        'industria': 'first',\n",
    "    })\\\n",
    "    .reset_index()\\\n",
    "    .set_index('timestamp')\n",
    "grouped_prod_equipo.head()"
   ]
  },
  {
   "cell_type": "markdown",
   "metadata": {
    "id": "rskLy8kAkXLn"
   },
   "source": [
    "\n",
    "Graficamos el mismo centro operativo de ejemplo."
   ]
  },
  {
   "cell_type": "code",
   "execution_count": null,
   "metadata": {
    "colab": {
     "base_uri": "https://localhost:8080/"
    },
    "id": "vFPlzk53lIdg",
    "outputId": "efdfd406-843b-404b-d205-3e2dc6dd3468"
   },
   "outputs": [],
   "source": [
    "co_900_grouped = grouped_prod_equipo.query(\"id_equipo == '900'\")\n",
    "# Debemos remover las categorías no utilizadas\n",
    "co_900_grouped.loc[:,'nombre_producto'] = co_900_grouped['nombre_producto']\\\n",
    "    .cat.remove_unused_categories()"
   ]
  },
  {
   "cell_type": "code",
   "execution_count": null,
   "metadata": {
    "colab": {
     "base_uri": "https://localhost:8080/",
     "height": 609
    },
    "id": "yLcEJjpBkM9C",
    "outputId": "d52c809c-aae2-4737-a590-db75fb6f9cf6"
   },
   "outputs": [],
   "source": [
    "n = co_900_grouped['nombre_producto'].nunique()\n",
    "fig, axes = plt.subplots(n, 1, sharex=True, sharey=False, figsize=(20, 10))\n",
    "\n",
    "for i, producto in enumerate(co_900_grouped['nombre_producto'].unique()):\n",
    "    seaborn.lineplot(\n",
    "        data=co_900_grouped.query(\"nombre_producto == @producto\"), \n",
    "        y='volumen', \n",
    "        x='timestamp', \n",
    "        hue='nombre_producto', \n",
    "        ax=axes[i]\n",
    "    ).axes.set(ylim=(0, None))\n",
    "seaborn.despine()"
   ]
  },
  {
   "cell_type": "markdown",
   "metadata": {
    "id": "_5G0JVoZiJNJ"
   },
   "source": [
    "## Imputación de datos faltantes"
   ]
  },
  {
   "cell_type": "code",
   "execution_count": null,
   "metadata": {
    "colab": {
     "base_uri": "https://localhost:8080/"
    },
    "id": "bDbQQyQB9xOf",
    "outputId": "9c315c49-c28b-4716-8cd1-550aa8bd10f4"
   },
   "outputs": [],
   "source": [
    "grouped_prod_equipo.info()"
   ]
  },
  {
   "cell_type": "code",
   "execution_count": null,
   "metadata": {
    "colab": {
     "base_uri": "https://localhost:8080/"
    },
    "id": "umv_gJu994I2",
    "outputId": "2052f284-1d10-4e6a-86f6-a195a8449dec"
   },
   "outputs": [],
   "source": [
    "grouped_prod_equipo.isna().sum()"
   ]
  },
  {
   "cell_type": "code",
   "execution_count": null,
   "metadata": {
    "colab": {
     "base_uri": "https://localhost:8080/",
     "height": 269
    },
    "id": "NCZFOE9W-BxO",
    "outputId": "4cde547f-fa15-4a42-b516-f297feb7067b"
   },
   "outputs": [],
   "source": [
    "group_ind_na=grouped_prod_equipo[grouped_prod_equipo.industria.isna()]\n",
    "group_ind_na[:6]"
   ]
  },
  {
   "cell_type": "code",
   "execution_count": null,
   "metadata": {
    "colab": {
     "base_uri": "https://localhost:8080/"
    },
    "id": "G3wQSHSu_kC8",
    "outputId": "1ea88fdb-822b-40c7-a79b-3b52bafa98c1"
   },
   "outputs": [],
   "source": [
    "group_ind_na.id_equipo.unique()"
   ]
  },
  {
   "cell_type": "code",
   "execution_count": null,
   "metadata": {
    "colab": {
     "base_uri": "https://localhost:8080/",
     "height": 455
    },
    "id": "ZrckHgZD-qgm",
    "outputId": "165c976a-7fc5-40eb-9a37-9dd1a1e32434"
   },
   "outputs": [],
   "source": [
    "grouped_prod_equipo[grouped_prod_equipo.id_equipo==\"554\"]"
   ]
  },
  {
   "cell_type": "markdown",
   "metadata": {
    "id": "GQLXBaGpjS7o"
   },
   "source": [
    "Se imputarán con la constante \"Unknown\" los valores nulos de industria ya que, como se observó en el práctico anterior, no corresponden a una identificación de la industria, por lo cual, no hay posibilidad de imputar estos valores."
   ]
  },
  {
   "cell_type": "code",
   "execution_count": null,
   "metadata": {
    "colab": {
     "base_uri": "https://localhost:8080/",
     "height": 455
    },
    "id": "5jEBI12wCxxL",
    "outputId": "d0d0219c-4235-4f30-97f9-f7a64c86f6bb"
   },
   "outputs": [],
   "source": [
    "# grouped_prod_equipo.dropna(subset=[\"industria\"], axis=0, inplace=True)\n",
    "imputer = SimpleImputer(missing_values=numpy.nan, strategy='constant', fill_value='Unknown')\n",
    "X = imputer.fit_transform(grouped_prod_equipo)\n",
    "grouped_prod_equipo = pd.DataFrame(X, columns=grouped_prod_equipo.columns, index=grouped_prod_equipo.index)\n",
    "grouped_prod_equipo"
   ]
  },
  {
   "cell_type": "code",
   "execution_count": null,
   "metadata": {
    "colab": {
     "base_uri": "https://localhost:8080/"
    },
    "id": "qe3tF89xI1-S",
    "outputId": "28360158-aa8c-4a13-f97d-a9b6a0a9270f"
   },
   "outputs": [],
   "source": [
    "grouped_prod_equipo.isna().sum()"
   ]
  },
  {
   "cell_type": "code",
   "execution_count": null,
   "metadata": {
    "colab": {
     "base_uri": "https://localhost:8080/"
    },
    "id": "U7fkwJ8rJAaN",
    "outputId": "d728d2b3-6ef2-4c53-98ee-1a0a5782a980"
   },
   "outputs": [],
   "source": [
    "grouped_prod_equipo.info()"
   ]
  },
  {
   "cell_type": "markdown",
   "metadata": {
    "id": "pfp54qVzlWED"
   },
   "source": [
    "## Escalado del volumen y consumo por la capacidad por centro-producto"
   ]
  },
  {
   "cell_type": "code",
   "execution_count": null,
   "metadata": {
    "id": "R9z4iePRKlte"
   },
   "outputs": [],
   "source": [
    "grouped_prod_equipo[\"volumen_escl\"] = grouped_prod_equipo[\"volumen\"]/grouped_prod_equipo[\"capacidad\"]"
   ]
  },
  {
   "cell_type": "code",
   "execution_count": null,
   "metadata": {
    "id": "JJj72lKSpkm_"
   },
   "outputs": [],
   "source": [
    "grouped_prod_equipo[\"consumo_escl\"] = grouped_prod_equipo[\"consumo\"]/grouped_prod_equipo[\"capacidad\"]"
   ]
  },
  {
   "cell_type": "code",
   "execution_count": null,
   "metadata": {
    "colab": {
     "base_uri": "https://localhost:8080/",
     "height": 269
    },
    "id": "YsorKlW9MzJK",
    "outputId": "68ac9bcd-cfc0-423d-82bc-51a24821174c"
   },
   "outputs": [],
   "source": [
    "grouped_prod_equipo[:6]"
   ]
  },
  {
   "cell_type": "markdown",
   "metadata": {
    "id": "QyYPH0QVl506"
   },
   "source": [
    "## Eliminación de columnas\n",
    "\n",
    "Una vez completa la curación, se eliminan las columnas que ya no se van a necesitar."
   ]
  },
  {
   "cell_type": "code",
   "execution_count": null,
   "metadata": {
    "id": "WIa5zFA7l5VD"
   },
   "outputs": [],
   "source": [
    "grouped_prod_equipo.drop(columns=[\"volumen\", \"consumo\"], axis=1, inplace=True)"
   ]
  },
  {
   "cell_type": "code",
   "execution_count": null,
   "metadata": {
    "colab": {
     "base_uri": "https://localhost:8080/",
     "height": 238
    },
    "id": "8XailTV_qCAd",
    "outputId": "c1640fdc-1a03-4861-8b5b-e06d3aa410b6"
   },
   "outputs": [],
   "source": [
    "grouped_prod_equipo.head()"
   ]
  },
  {
   "cell_type": "markdown",
   "metadata": {
    "id": "5hbUawmonGL3"
   },
   "source": [
    "## Guardado de los modelos\n",
    "\n",
    "Finalmente guardamos los datos procesados en formato pickle para ser utilizado en trabajos posteriores."
   ]
  },
  {
   "cell_type": "code",
   "execution_count": null,
   "metadata": {
    "colab": {
     "base_uri": "https://localhost:8080/"
    },
    "id": "6HlwTnQBnRoB",
    "outputId": "1ab1f277-c012-41f5-ebc8-10cc4704f911"
   },
   "outputs": [],
   "source": [
    "from google.colab import drive\n",
    "drive.mount('/content/drive')\n",
    "\n",
    "path = '/content/drive/MyDrive/Colab Notebooks/DiploDatos/Mentoría/Datasets/curated_df.pkl'\n",
    "# path = '/content/drive/MyDrive/Colab Notebooks/Diplo_Datos/Mentoria_GAP/curated_df.pkl'\n",
    "grouped_prod_equipo.to_pickle(path)"
   ]
  },
  {
   "cell_type": "markdown",
   "metadata": {
    "id": "ixIW4JiBnItk"
   },
   "source": [
    "Levantamos el archivo pickle y graficamos la última semana de alguno de los modelos."
   ]
  },
  {
   "cell_type": "code",
   "execution_count": null,
   "metadata": {
    "id": "Qp6QPhrwnSK4"
   },
   "outputs": [],
   "source": [
    "pkl_key = '11ihPPpzsS_9R5Kb--ZQNuDjFTzYkgc4C'\n",
    "curated_pkl = read_pkl_from_drive(drive, pkl_key, 'curated_df.pkl')"
   ]
  },
  {
   "cell_type": "code",
   "execution_count": null,
   "metadata": {
    "colab": {
     "base_uri": "https://localhost:8080/",
     "height": 238
    },
    "id": "e9nxRaWbtEcl",
    "outputId": "b397fb28-14ef-492b-d765-3460fbd2128c"
   },
   "outputs": [],
   "source": [
    "curated_pkl.head()"
   ]
  },
  {
   "cell_type": "code",
   "execution_count": null,
   "metadata": {
    "colab": {
     "base_uri": "https://localhost:8080/"
    },
    "id": "GOqFOuCrtYRb",
    "outputId": "89840801-4341-492d-db9b-4ed1ffb96310"
   },
   "outputs": [],
   "source": [
    "curated_pkl.id_equipo.value_counts()"
   ]
  },
  {
   "cell_type": "code",
   "execution_count": null,
   "metadata": {
    "colab": {
     "base_uri": "https://localhost:8080/",
     "height": 455
    },
    "id": "ggkL6iYEtmGT",
    "outputId": "5c30381e-ea27-4c8c-e104-4e3b6ea467c4"
   },
   "outputs": [],
   "source": [
    "curated_pkl[curated_pkl.id_equipo==\"248\"]"
   ]
  },
  {
   "cell_type": "code",
   "execution_count": null,
   "metadata": {
    "colab": {
     "base_uri": "https://localhost:8080/",
     "height": 238
    },
    "id": "X_ZDDgVHt1z0",
    "outputId": "12d26e32-51f7-4d38-b640-55f876090f22"
   },
   "outputs": [],
   "source": [
    "co_248_d500 = curated_pkl[(curated_pkl[\"id_equipo\"]==\"248\") & (curated_pkl[\"nombre_producto\"]==\"D500\")] \n",
    "co_248_d500.head()"
   ]
  },
  {
   "cell_type": "code",
   "execution_count": null,
   "metadata": {
    "colab": {
     "base_uri": "https://localhost:8080/"
    },
    "id": "CgFBfFXE8dxf",
    "outputId": "b88f7c83-e7f2-407a-c8bf-fd42db9b7d8c"
   },
   "outputs": [],
   "source": [
    "co_248_d500.dtypes"
   ]
  },
  {
   "cell_type": "code",
   "execution_count": null,
   "metadata": {
    "colab": {
     "base_uri": "https://localhost:8080/",
     "height": 283
    },
    "id": "4wIoXgBV77dC",
    "outputId": "ac168a6b-3ae1-4f1f-84b7-0c2777d113b7"
   },
   "outputs": [],
   "source": [
    "fig, axes = plt.subplots(1, 1, sharex=True, sharey=False, figsize=(20, 4))\n",
    "\n",
    "seaborn.lineplot(\n",
    "    x=co_248_d500.index, \n",
    "    y=co_248_d500[\"volumen_escl\"].astype(float), \n",
    ").axes.set(ylim=(0, None))\n",
    "seaborn.despine()"
   ]
  },
  {
   "cell_type": "markdown",
   "metadata": {
    "id": "WwJef8XYW1Hy"
   },
   "source": [
    "## Análisis\n",
    "\n",
    "Luego del trabajo de curación y guardado de los datos, realizamos algunos análisis  postprocesamiento para ser tenidos en cuenta en los próximos trabajos."
   ]
  },
  {
   "cell_type": "markdown",
   "metadata": {
    "id": "KLW6vH4MnB26"
   },
   "source": [
    "### Estacionalidad de la serie\n",
    "\n",
    "Para detectar cuándo un centro operativo se va a quedar sin combustible no es suficiente con extrapolar la serie con las últimas pendientes (consumos) ya que el comportamiento de cada centro depende del  día, turno, horario, etc. Necesitamos analizar la **estacionalidad** de la misma.\n",
    "\n",
    "Utilizamos del paquete de `statsmodels` el método `seasonal_descompose` para descomponer la serie y analizar su estacionalidad. Si bien este método es Naïve, por el momento nos resulta suficiente para obtener algunos análisis (y quizás hiperparámetros) preliminares."
   ]
  },
  {
   "cell_type": "markdown",
   "metadata": {
    "id": "2kJnd509xHxY"
   },
   "source": [
    "Ejemplo con un equipo de la industria Estación de Servicio (248) y el producto D500"
   ]
  },
  {
   "cell_type": "code",
   "execution_count": null,
   "metadata": {
    "id": "lZJ9fthAooNl"
   },
   "outputs": [],
   "source": [
    "decomp_volumen=seasonal_decompose(co_248_d500[\"volumen_escl\"],freq= 60*24)   "
   ]
  },
  {
   "cell_type": "code",
   "execution_count": null,
   "metadata": {
    "colab": {
     "base_uri": "https://localhost:8080/",
     "height": 420
    },
    "id": "9JvQk_propJ6",
    "outputId": "a2662aa6-9c62-422b-a22f-64f840c58947"
   },
   "outputs": [],
   "source": [
    "fig, ax = plt.subplots(ncols=2, nrows=4, sharex=True, figsize=(16,8))\n",
    "\n",
    "for i, column in enumerate(['volumen_escl', 'consumo_escl']):\n",
    "    \n",
    "    res = seasonal_decompose(co_248_d500[column], freq=60*24, model='additive', extrapolate_trend='freq')\n",
    "\n",
    "    ax[0,i].set_title('Decomposition of {}'.format(column), fontsize=16)\n",
    "    res.observed.plot(ax=ax[0,i], legend=False, color='dodgerblue')\n",
    "    ax[0,i].set_ylabel('Observed', fontsize=14)\n",
    "\n",
    "    res.trend.plot(ax=ax[1,i], legend=False, color='dodgerblue')\n",
    "    ax[1,i].set_ylabel('Trend', fontsize=14)\n",
    "\n",
    "    res.seasonal.plot(ax=ax[2,i], legend=False, color='dodgerblue')\n",
    "    ax[2,i].set_ylabel('Seasonal', fontsize=14)\n",
    "    \n",
    "    res.resid.plot(ax=ax[3,i], legend=False, color='dodgerblue')\n",
    "    ax[3,i].set_ylabel('Residual', fontsize=14)"
   ]
  },
  {
   "cell_type": "markdown",
   "metadata": {
    "id": "uh-G4aiG9rd7"
   },
   "source": [
    "\n",
    "Vamos a analizar el comportamiento respecto a:\n",
    "- Momento de la semana.\n",
    "- Horario laboral habitual.\n",
    "- Turnos mañana, tarde y noche.\n",
    "\n",
    "Observamos ejemplos sobre dos grandes grupos de producto (Diesel y Nafta)."
   ]
  },
  {
   "cell_type": "code",
   "execution_count": null,
   "metadata": {
    "id": "DGsU41hN-HTg"
   },
   "outputs": [],
   "source": [
    "co_900_nafta = curated_pkl[(curated_pkl[\"id_equipo\"] == \"900\") & (curated_pkl[\"nombre_producto\"] == \"Nafta Super\")] \n",
    "co_900_diesel = curated_pkl[(curated_pkl[\"id_equipo\"] == \"900\") & (curated_pkl[\"nombre_producto\"] == \"Formula Diesel\")] \n",
    "co_477_nafta = curated_pkl[(curated_pkl[\"id_equipo\"] == \"477\") & (curated_pkl[\"nombre_producto\"] == \"VP Nafta\")] \n",
    "co_248_diesel = curated_pkl[(curated_pkl[\"id_equipo\"] == \"248\") & (curated_pkl[\"nombre_producto\"] == \"D500\")] "
   ]
  },
  {
   "cell_type": "code",
   "execution_count": null,
   "metadata": {
    "id": "XQI7zfWtvVAy"
   },
   "outputs": [],
   "source": [
    "sd_900_nafta = seasonal_decompose(\n",
    "    co_900_nafta['volumen_escl'].astype(float), \n",
    "    freq=60*24\n",
    ")\n",
    "sd_900_diesel = seasonal_decompose(\n",
    "    co_900_diesel['volumen_escl'].astype(float), \n",
    "    freq=60*24\n",
    ")\n",
    "sd_477_nafta = seasonal_decompose(\n",
    "    co_477_nafta['volumen_escl'].astype(float), \n",
    "    freq=60*24\n",
    ")\n",
    "sd_248_diesel = seasonal_decompose(\n",
    "    co_248_diesel['volumen_escl'].astype(float), \n",
    "    freq=60*24\n",
    ")"
   ]
  },
  {
   "cell_type": "code",
   "execution_count": null,
   "metadata": {
    "id": "RNyBy1-8uR5G"
   },
   "outputs": [],
   "source": [
    "# Rangos de tiempo dummy para marcar turnos, fines de semana en los gráficos\n",
    "daily_range = pd.date_range(start='2021-02-22', end='2021-04-01', freq='D')\n",
    "hourly_range = pd.date_range(start='2021-02-22', end='2021-04-01', freq='H')"
   ]
  },
  {
   "cell_type": "code",
   "execution_count": null,
   "metadata": {
    "colab": {
     "base_uri": "https://localhost:8080/",
     "height": 500
    },
    "id": "2Chieuusvu2Z",
    "outputId": "b5311487-a6f8-44b0-a365-dc5fe7012ca0"
   },
   "outputs": [],
   "source": [
    "fig, axes = plt.subplots(4, 1, sharex=True, sharey=False, figsize=(20, 8))\n",
    "# Semana vs fines de semana\n",
    "g = seaborn.lineplot(\n",
    "    data=sd_900_nafta.seasonal[15000:], \n",
    "    color='dodgerblue',\n",
    "    ax=axes[0]\n",
    ")\n",
    "[g.axes.axvline(d, color='lightgreen') for d in daily_range if d.weekday() in [0,5]]\n",
    "g = seaborn.lineplot(\n",
    "    data=sd_477_nafta.seasonal[15000:], \n",
    "    color='dodgerblue',\n",
    "    ax=axes[1]\n",
    ")\n",
    "[g.axes.axvline(d, color='lightgreen') for d in daily_range if d.weekday() in [0,5]]\n",
    "\n",
    "g = seaborn.lineplot(\n",
    "    data=sd_900_diesel.seasonal[15000:], \n",
    "    color='limegreen',\n",
    "    ax=axes[2]\n",
    ")\n",
    "[g.axes.axvline(d, color='lightgreen') for d in daily_range if d.weekday() in [0,5]]\n",
    "g = seaborn.lineplot(\n",
    "    data=sd_248_diesel.seasonal[15000:], \n",
    "    color='limegreen',\n",
    "    ax=axes[3]\n",
    ")\n",
    "[g.axes.axvline(d, color='lightgreen') for d in daily_range if d.weekday() in [0,5]]\n",
    "plt.show()"
   ]
  },
  {
   "cell_type": "code",
   "execution_count": null,
   "metadata": {
    "colab": {
     "base_uri": "https://localhost:8080/",
     "height": 500
    },
    "id": "a3iE3UYs_9nZ",
    "outputId": "6cb7d93a-97a6-4e46-b9ab-f8fb2e4acee8"
   },
   "outputs": [],
   "source": [
    "fig, axes = plt.subplots(4, 1, sharex=True, sharey=False, figsize=(20, 8))\n",
    "# Diario\n",
    "g = seaborn.lineplot(\n",
    "    data=sd_900_nafta.seasonal[15000:], \n",
    "    color='dodgerblue',\n",
    "    ax=axes[0]\n",
    ")\n",
    "[g.axes.axvline(d, color='lightgreen') for d in daily_range]\n",
    "[g.axes.axvline(d, color='darkgreen') for d in daily_range if d.weekday() == 0]\n",
    "g = seaborn.lineplot(\n",
    "    data=sd_477_nafta.seasonal[15000:], \n",
    "    color='dodgerblue',\n",
    "    ax=axes[1]\n",
    ")\n",
    "[g.axes.axvline(d, color='lightgreen') for d in daily_range]\n",
    "[g.axes.axvline(d, color='darkgreen') for d in daily_range if d.weekday() == 0]\n",
    "\n",
    "g = seaborn.lineplot(\n",
    "    data=sd_900_diesel.seasonal[15000:], \n",
    "    color='limegreen',\n",
    "    ax=axes[2]\n",
    ")\n",
    "[g.axes.axvline(d, color='lightgreen') for d in daily_range]\n",
    "[g.axes.axvline(d, color='darkgreen') for d in daily_range if d.weekday() == 0]\n",
    "g = seaborn.lineplot(\n",
    "    data=sd_248_diesel.seasonal[15000:], \n",
    "    color='limegreen',\n",
    "    ax=axes[3]\n",
    ")\n",
    "[g.axes.axvline(d, color='lightgreen') for d in daily_range]\n",
    "[g.axes.axvline(d, color='darkgreen') for d in daily_range if d.weekday() == 0]\n",
    "plt.show()"
   ]
  },
  {
   "cell_type": "code",
   "execution_count": null,
   "metadata": {
    "colab": {
     "base_uri": "https://localhost:8080/",
     "height": 500
    },
    "id": "YXB9PyT8BePK",
    "outputId": "5882093a-19e2-4929-9bf3-844f921c452e"
   },
   "outputs": [],
   "source": [
    "fig, axes = plt.subplots(4, 1, sharex=True, sharey=False, figsize=(20, 8))\n",
    "# Horario laboral habitual\n",
    "g = seaborn.lineplot(\n",
    "    data=sd_900_nafta.seasonal[15000:], \n",
    "    color='dodgerblue',\n",
    "    ax=axes[0]\n",
    ")\n",
    "[g.axes.axvline(h, color='lightgreen') for h in hourly_range if h.hour in [9, 18]]\n",
    "g = seaborn.lineplot(\n",
    "    data=sd_477_nafta.seasonal[15000:], \n",
    "    color='dodgerblue',\n",
    "    ax=axes[1]\n",
    ")\n",
    "[g.axes.axvline(h, color='lightgreen') for h in hourly_range if h.hour in [9, 18]]\n",
    "\n",
    "g = seaborn.lineplot(\n",
    "    data=sd_900_diesel.seasonal[15000:], \n",
    "    color='limegreen',\n",
    "    ax=axes[2]\n",
    ")\n",
    "[g.axes.axvline(h, color='lightgreen') for h in hourly_range if h.hour in [9, 18]]\n",
    "g = seaborn.lineplot(\n",
    "    data=sd_248_diesel.seasonal[15000:], \n",
    "    color='limegreen',\n",
    "    ax=axes[3]\n",
    ")\n",
    "[g.axes.axvline(h, color='lightgreen') for h in hourly_range if h.hour in [9, 18]]\n",
    "plt.show()"
   ]
  },
  {
   "cell_type": "code",
   "execution_count": null,
   "metadata": {
    "colab": {
     "base_uri": "https://localhost:8080/",
     "height": 500
    },
    "id": "8k-jzM--CCpy",
    "outputId": "b8d8bf17-234e-4405-f194-76e2503e1183"
   },
   "outputs": [],
   "source": [
    "fig, axes = plt.subplots(4, 1, sharex=True, sharey=False, figsize=(20, 8))\n",
    "# Turnos\n",
    "g = seaborn.lineplot(\n",
    "    data=sd_900_nafta.seasonal[15000:], \n",
    "    color='dodgerblue',\n",
    "    ax=axes[0]\n",
    ")\n",
    "[g.axes.axvline(h, color='lightgreen') for h in hourly_range if h.hour == 9]\n",
    "[g.axes.axvline(h, color='lightblue') for h in hourly_range if h.hour == 13]\n",
    "[g.axes.axvline(h, color='pink') for h in hourly_range if h.hour == 18]\n",
    "g = seaborn.lineplot(\n",
    "    data=sd_477_nafta.seasonal[15000:], \n",
    "    color='dodgerblue',\n",
    "    ax=axes[1]\n",
    ")\n",
    "[g.axes.axvline(h, color='lightgreen') for h in hourly_range if h.hour == 9]\n",
    "[g.axes.axvline(h, color='lightblue') for h in hourly_range if h.hour == 13]\n",
    "[g.axes.axvline(h, color='pink') for h in hourly_range if h.hour == 18]\n",
    "\n",
    "g = seaborn.lineplot(\n",
    "    data=sd_900_diesel.seasonal[15000:], \n",
    "    color='limegreen',\n",
    "    ax=axes[2]\n",
    ")\n",
    "[g.axes.axvline(h, color='lightgreen') for h in hourly_range if h.hour == 9]\n",
    "[g.axes.axvline(h, color='lightblue') for h in hourly_range if h.hour == 13]\n",
    "[g.axes.axvline(h, color='pink') for h in hourly_range if h.hour == 18]\n",
    "g = seaborn.lineplot(\n",
    "    data=sd_248_diesel.seasonal[15000:], \n",
    "    color='limegreen',\n",
    "    ax=axes[3]\n",
    ")\n",
    "[g.axes.axvline(h, color='lightgreen') for h in hourly_range if h.hour == 9]\n",
    "[g.axes.axvline(h, color='lightblue') for h in hourly_range if h.hour == 13]\n",
    "[g.axes.axvline(h, color='pink') for h in hourly_range if h.hour == 18]\n",
    "plt.show()"
   ]
  },
  {
   "cell_type": "markdown",
   "metadata": {
    "id": "Nh6YVgpEEk0s"
   },
   "source": [
    "A grandes rasgos se puede observar:\n",
    "- Abastecimientos en horarios laborables habituales.\n",
    "- Mayores consumos en horarios nocturnos."
   ]
  },
  {
   "cell_type": "markdown",
   "metadata": {
    "id": "Xzro0xvv8Oe7"
   },
   "source": [
    "## Conclusiones\n",
    "\n",
    "- En principio se llevará a cabo un modelo por centro operativo y producto. En una segunda instancia, se probará un modelo con todos los centros operativos y con hiperparámetros, es por esto que se incluyó la industria en el datadet. Se tendrá en cuenta un período de tiempo en particular para realizar la predicción, para esto será de gran utilidad la descomposición de las series temporales."
   ]
  }
 ],
 "metadata": {
  "colab": {
   "collapsed_sections": [],
   "name": "Cintelink - AEyCD.ipynb",
   "provenance": [],
   "toc_visible": true
  },
  "kernelspec": {
   "display_name": "Python 3",
   "language": "python",
   "name": "python3"
  },
  "language_info": {
   "codemirror_mode": {
    "name": "ipython",
    "version": 3
   },
   "file_extension": ".py",
   "mimetype": "text/x-python",
   "name": "python",
   "nbconvert_exporter": "python",
   "pygments_lexer": "ipython3",
   "version": "3.8.5"
  }
 },
 "nbformat": 4,
 "nbformat_minor": 4
}
